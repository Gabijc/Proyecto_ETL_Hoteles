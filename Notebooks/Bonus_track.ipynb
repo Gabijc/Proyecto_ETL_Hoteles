{
 "cells": [
  {
   "cell_type": "code",
   "execution_count": 36,
   "metadata": {},
   "outputs": [],
   "source": [
    "# Importamos las librerías necesarias\n",
    "import pandas as pd\n",
    "import numpy as np\n",
    "import psycopg2 as ps"
   ]
  },
  {
   "cell_type": "code",
   "execution_count": 37,
   "metadata": {},
   "outputs": [],
   "source": [
    "# Creamos la conexión a la base de datos\n",
    "# Vamos a crear una conexión a la base de datos.\n",
    "conn = ps.connect(\n",
    "    dbname = \"BBDD_Hoteles\", # base a la que nos queremos conectar\n",
    "    user = \"postgres\",\n",
    "    password = \"admin\",\n",
    "    host = \"localhost\",\n",
    "    port = \"5432\" # puerto en el que s eencuentra postgres\n",
    ")"
   ]
  },
  {
   "cell_type": "code",
   "execution_count": 38,
   "metadata": {},
   "outputs": [],
   "source": [
    "# Creamos un cursor el cual nos va a permitir ejecutar querys.\n",
    "cur = conn.cursor()"
   ]
  },
  {
   "cell_type": "code",
   "execution_count": 39,
   "metadata": {},
   "outputs": [
    {
     "data": {
      "text/plain": [
       "('PostgreSQL 16.4, compiled by Visual C++ build 1940, 64-bit',)"
      ]
     },
     "execution_count": 39,
     "metadata": {},
     "output_type": "execute_result"
    }
   ],
   "source": [
    "# COmprobamos que la conexión está creada y conectada\n",
    "cur.execute(\"SELECT version();\")\n",
    "cur.fetchone() "
   ]
  },
  {
   "cell_type": "markdown",
   "metadata": {},
   "source": [
    "## Bonus Track 2"
   ]
  },
  {
   "cell_type": "markdown",
   "metadata": {},
   "source": [
    "## Consulta 1: Cuantos hoteles tiene la base de datos\n"
   ]
  },
  {
   "cell_type": "code",
   "execution_count": 40,
   "metadata": {},
   "outputs": [
    {
     "data": {
      "text/plain": [
       "[(29,)]"
      ]
     },
     "execution_count": 40,
     "metadata": {},
     "output_type": "execute_result"
    }
   ],
   "source": [
    "query1 = \"\"\"\n",
    "    SELECT \n",
    "        count(id_hotel) \n",
    "    FROM hoteles; \n",
    "\"\"\"\n",
    "cur.execute(query1)\n",
    "cur.fetchall()"
   ]
  },
  {
   "cell_type": "markdown",
   "metadata": {},
   "source": [
    "## Consulta 2: Cuantas reservas se han hecho"
   ]
  },
  {
   "cell_type": "code",
   "execution_count": 41,
   "metadata": {},
   "outputs": [
    {
     "data": {
      "text/plain": [
       "[(15000,)]"
      ]
     },
     "execution_count": 41,
     "metadata": {},
     "output_type": "execute_result"
    }
   ],
   "source": [
    "query2 = \"\"\"\n",
    "    SELECT \n",
    "        count(id_reserva) \n",
    "    FROM reservas; \n",
    "\"\"\"\n",
    "cur.execute(query2)\n",
    "cur.fetchall()"
   ]
  },
  {
   "cell_type": "markdown",
   "metadata": {},
   "source": [
    "## Consulta 3: Identifica los 10 clientes que más se han gastado\n"
   ]
  },
  {
   "cell_type": "code",
   "execution_count": 42,
   "metadata": {},
   "outputs": [
    {
     "data": {
      "text/plain": [
       "[('Nazaret', 9194.233058437145),\n",
       " ('Reyes', 8830.594966228322),\n",
       " ('José', 7976.855523083232),\n",
       " ('Amor', 7440.725654803355),\n",
       " ('Trinidad', 7306.092914252774),\n",
       " ('Cruz', 7294.01557152846),\n",
       " ('Guiomar', 7170.887398393007),\n",
       " ('Amancio', 7145.372831655316),\n",
       " ('René', 6587.434547319466),\n",
       " ('Guadalupe', 6520.99880800067)]"
      ]
     },
     "execution_count": 42,
     "metadata": {},
     "output_type": "execute_result"
    }
   ],
   "source": [
    "query3 = \"\"\"\n",
    "    SELECT \n",
    "        c.nombre,\n",
    "        sum(r.precio_noche)\n",
    "    FROM clientes as c\n",
    "        INNER JOIN  reservas as r ON c.id_cliente = r.id_cliente\n",
    "    GROUP BY c.nombre\n",
    "    ORDER BY 2 DESC\n",
    "    LIMIT 10; \n",
    "\"\"\"\n",
    "cur.execute(query3)\n",
    "cur.fetchall()"
   ]
  },
  {
   "cell_type": "markdown",
   "metadata": {},
   "source": [
    "## Consulta 4: Identifica el hotel de la competencia y el hotel de nuestra marca que más han recaudado para esas fechas\n"
   ]
  },
  {
   "cell_type": "code",
   "execution_count": 43,
   "metadata": {},
   "outputs": [],
   "source": [
    "conn.rollback()"
   ]
  },
  {
   "cell_type": "code",
   "execution_count": 44,
   "metadata": {},
   "outputs": [
    {
     "data": {
      "text/plain": [
       "[('ibis Madrid Centro las Ventas', 90128.0)]"
      ]
     },
     "execution_count": 44,
     "metadata": {},
     "output_type": "execute_result"
    }
   ],
   "source": [
    "# Hotel competencia con mas recaudacion\n",
    "query4 = \"\"\" \n",
    "        SELECT \n",
    "            h.nombre_hotel,\n",
    "            sum(r.precio_noche)\n",
    "        FROM hoteles as h\n",
    "            INNER JOIN  reservas as r ON h.id_hotel = r.id_hotel\n",
    "        WHERE h.competencia = True\n",
    "        GROUP BY h.nombre_hotel\n",
    "        ORDER BY 2 DESC\n",
    "        LIMIT 1; \n",
    "\"\"\"\n",
    "\n",
    "cur.execute(query4)\n",
    "cur.fetchall()"
   ]
  },
  {
   "cell_type": "code",
   "execution_count": 45,
   "metadata": {},
   "outputs": [
    {
     "data": {
      "text/plain": [
       "[('Hotel Monte Verde', 152136.8095238094)]"
      ]
     },
     "execution_count": 45,
     "metadata": {},
     "output_type": "execute_result"
    }
   ],
   "source": [
    "# Hotel grupo con mas recaudacion\n",
    "query4_1 = \"\"\" \n",
    "        SELECT \n",
    "            h.nombre_hotel,\n",
    "            sum(r.precio_noche)\n",
    "        FROM hoteles as h\n",
    "            INNER JOIN  reservas as r ON h.id_hotel = r.id_hotel\n",
    "        WHERE h.competencia = False\n",
    "        GROUP BY h.nombre_hotel\n",
    "        ORDER BY 2 DESC\n",
    "        LIMIT 1; \n",
    "\"\"\"\n",
    "\n",
    "cur.execute(query4_1)\n",
    "cur.fetchall()"
   ]
  },
  {
   "cell_type": "markdown",
   "metadata": {},
   "source": [
    "## Consulta 5: Identifica cuantos eventos hay.\n"
   ]
  },
  {
   "cell_type": "code",
   "execution_count": 46,
   "metadata": {},
   "outputs": [
    {
     "data": {
      "text/plain": [
       "[(217,)]"
      ]
     },
     "execution_count": 46,
     "metadata": {},
     "output_type": "execute_result"
    }
   ],
   "source": [
    "# Hotel competencia con mas recaudacion\n",
    "query5 = \"\"\" \n",
    "        SELECT \n",
    "            count(id_evento)\n",
    "        FROM eventos ; \n",
    "\"\"\"\n",
    "\n",
    "cur.execute(query5)\n",
    "cur.fetchall()"
   ]
  },
  {
   "cell_type": "markdown",
   "metadata": {},
   "source": [
    "## Consulta 6: Identifica el día que más reservas se han hecho para nuestro hoteles"
   ]
  },
  {
   "cell_type": "code",
   "execution_count": 47,
   "metadata": {},
   "outputs": [
    {
     "data": {
      "text/plain": [
       "[(datetime.date(2025, 2, 21), 5172)]"
      ]
     },
     "execution_count": 47,
     "metadata": {},
     "output_type": "execute_result"
    }
   ],
   "source": [
    "# Hotel competencia con mas recaudacion\n",
    "query6 = \"\"\" \n",
    "        SELECT \n",
    "            r.fecha_reserva,\n",
    "            count(r.id_reserva)\n",
    "        FROM hoteles as h\n",
    "            INNER JOIN  reservas as r ON h.id_hotel = r.id_hotel\n",
    "        WHERE h.competencia = True\n",
    "        GROUP BY r.fecha_reserva ; \n",
    "\"\"\"\n",
    "\n",
    "cur.execute(query6)\n",
    "cur.fetchall()"
   ]
  },
  {
   "cell_type": "code",
   "execution_count": 48,
   "metadata": {},
   "outputs": [],
   "source": [
    "# una vez hemos terminado de trabajar es necesario cerrar la conexión y el cursor.\n",
    "cur.close()\n",
    "conn.close()"
   ]
  },
  {
   "cell_type": "markdown",
   "metadata": {},
   "source": [
    "## Bonus Track 2"
   ]
  }
 ],
 "metadata": {
  "kernelspec": {
   "display_name": "venv",
   "language": "python",
   "name": "python3"
  },
  "language_info": {
   "codemirror_mode": {
    "name": "ipython",
    "version": 3
   },
   "file_extension": ".py",
   "mimetype": "text/x-python",
   "name": "python",
   "nbconvert_exporter": "python",
   "pygments_lexer": "ipython3",
   "version": "3.12.4"
  }
 },
 "nbformat": 4,
 "nbformat_minor": 2
}
