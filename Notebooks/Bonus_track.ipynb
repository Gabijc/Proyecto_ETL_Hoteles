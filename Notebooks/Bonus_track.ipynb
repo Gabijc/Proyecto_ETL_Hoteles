{
 "cells": [
  {
   "cell_type": "code",
   "execution_count": 3,
   "metadata": {},
   "outputs": [],
   "source": [
    "# Importamos las librerías necesarias\n",
    "import pandas as pd # type: ignore\n",
    "import numpy as np # type: ignore\n",
    "import psycopg2 as ps # type: ignore"
   ]
  },
  {
   "cell_type": "code",
   "execution_count": 4,
   "metadata": {},
   "outputs": [],
   "source": [
    "# Creamos la conexión a la base de datos\n",
    "# Vamos a crear una conexión a la base de datos.\n",
    "conn = ps.connect(\n",
    "    dbname = \"BBDD_Hoteles\", # base a la que nos queremos conectar\n",
    "    user = \"postgres\",\n",
    "    password = \"admin\",\n",
    "    host = \"localhost\",\n",
    "    port = \"5432\" # puerto en el que s eencuentra postgres\n",
    ")"
   ]
  },
  {
   "cell_type": "code",
   "execution_count": 5,
   "metadata": {},
   "outputs": [],
   "source": [
    "# Creamos un cursor el cual nos va a permitir ejecutar querys.\n",
    "cur = conn.cursor()"
   ]
  },
  {
   "cell_type": "code",
   "execution_count": 6,
   "metadata": {},
   "outputs": [
    {
     "data": {
      "text/plain": [
       "('PostgreSQL 16.4, compiled by Visual C++ build 1940, 64-bit',)"
      ]
     },
     "execution_count": 6,
     "metadata": {},
     "output_type": "execute_result"
    }
   ],
   "source": [
    "# COmprobamos que la conexión está creada y conectada\n",
    "cur.execute(\"SELECT version();\")\n",
    "cur.fetchone() "
   ]
  },
  {
   "cell_type": "markdown",
   "metadata": {},
   "source": [
    "## Bonus Track 2"
   ]
  },
  {
   "cell_type": "markdown",
   "metadata": {},
   "source": [
    "## Consulta 1: Cuantos hoteles tiene la base de datos\n"
   ]
  },
  {
   "cell_type": "code",
   "execution_count": 13,
   "metadata": {},
   "outputs": [
    {
     "name": "stdout",
     "output_type": "stream",
     "text": [
      "La base de datos tiene 29 hoteles\n"
     ]
    }
   ],
   "source": [
    "query1 = \"\"\"\n",
    "    SELECT \n",
    "        count(id_hotel) \n",
    "    FROM hoteles; \n",
    "\"\"\"\n",
    "cur.execute(query1)\n",
    "q1 = cur.fetchall()\n",
    "print(f\"La base de datos tiene {q1[0][0]} hoteles\")"
   ]
  },
  {
   "cell_type": "markdown",
   "metadata": {},
   "source": [
    "## Consulta 2: Cuantas reservas se han hecho"
   ]
  },
  {
   "cell_type": "code",
   "execution_count": 15,
   "metadata": {},
   "outputs": [
    {
     "name": "stdout",
     "output_type": "stream",
     "text": [
      "Se han realizado un total de 15000 reservas\n"
     ]
    }
   ],
   "source": [
    "query2 = \"\"\"\n",
    "    SELECT \n",
    "        count(id_reserva) \n",
    "    FROM reservas; \n",
    "\"\"\"\n",
    "cur.execute(query2)\n",
    "q2 = cur.fetchall()\n",
    "print(f\"Se han realizado un total de {q2[0][0]} reservas\")"
   ]
  },
  {
   "cell_type": "markdown",
   "metadata": {},
   "source": [
    "## Consulta 3: Identifica los 10 clientes que más se han gastado\n"
   ]
  },
  {
   "cell_type": "code",
   "execution_count": 29,
   "metadata": {},
   "outputs": [
    {
     "name": "stdout",
     "output_type": "stream",
     "text": [
      "Los clientes que más se han gastado son: Nazaret con  9194.233058437145€, Reyes con  8830.594966228322€, Reyes con  9194.233058437145€, Amor con  9194.233058437145€, Trinidad con  Cruz€, Nazaret con  9194.233058437145€, Nazaret con  9194.233058437145€, Nazaret con  9194.233058437145€, Nazaret con  9194.233058437145€, Nazaret con  9194.233058437145€, Nazaret con  9194.233058437145€. \n"
     ]
    }
   ],
   "source": [
    "query3 = \"\"\"\n",
    "    SELECT \n",
    "        c.nombre,\n",
    "        sum(r.precio_noche)\n",
    "    FROM clientes as c\n",
    "        INNER JOIN  reservas as r ON c.id_cliente = r.id_cliente\n",
    "    GROUP BY c.nombre\n",
    "    ORDER BY 2 DESC\n",
    "    LIMIT 10; \n",
    "\"\"\"\n",
    "cur.execute(query3)\n",
    "q3 = cur.fetchall()\n",
    "q3[1][0]\n",
    "print(f\"Los clientes que más se han gastado son: {q3[0][0]} con  {q3[0][1]}€, {q3[1][0]} con  {q3[1][1]}€, {q3[1][0]} con  {q3[0][1]}€, {q3[3][0]} con  {q3[0][1]}€, {q3[4][0]} con  {q3[5][0]}€, {q3[0][0]} con  {q3[0][1]}€, {q3[0][0]} con  {q3[0][1]}€, {q3[0][0]} con  {q3[0][1]}€, {q3[0][0]} con  {q3[0][1]}€, {q3[0][0]} con  {q3[0][1]}€, {q3[0][0]} con  {q3[0][1]}€. \")"
   ]
  },
  {
   "cell_type": "markdown",
   "metadata": {},
   "source": [
    "## Consulta 4: Identifica el hotel de la competencia y el hotel de nuestra marca que más han recaudado para esas fechas\n"
   ]
  },
  {
   "cell_type": "code",
   "execution_count": 56,
   "metadata": {},
   "outputs": [],
   "source": [
    "conn.rollback()"
   ]
  },
  {
   "cell_type": "code",
   "execution_count": 31,
   "metadata": {},
   "outputs": [
    {
     "name": "stdout",
     "output_type": "stream",
     "text": [
      "El hotel de la competencia que más ha recaudado ha sido ibis Madrid Centro las Ventas, con un total de 90128.0€.\n"
     ]
    }
   ],
   "source": [
    "# Hotel competencia con mas recaudacion\n",
    "query4 = \"\"\" \n",
    "        SELECT \n",
    "            h.nombre_hotel,\n",
    "            sum(r.precio_noche)\n",
    "        FROM hoteles as h\n",
    "            INNER JOIN  reservas as r ON h.id_hotel = r.id_hotel\n",
    "        WHERE h.competencia = True\n",
    "        GROUP BY h.nombre_hotel\n",
    "        ORDER BY 2 DESC\n",
    "        LIMIT 1; \n",
    "\"\"\"\n",
    "\n",
    "cur.execute(query4)\n",
    "q4 = cur.fetchall()\n",
    "print(f\"El hotel de la competencia que más ha recaudado ha sido {q4[0][0]}, con un total de {q4[0][1]}€.\")"
   ]
  },
  {
   "cell_type": "code",
   "execution_count": 32,
   "metadata": {},
   "outputs": [
    {
     "name": "stdout",
     "output_type": "stream",
     "text": [
      "El hotel del grupo que más ha recaudado ha sido Hotel Monte Verde, con un total de 152136.8095238094€.\n"
     ]
    }
   ],
   "source": [
    "# Hotel grupo con mas recaudacion\n",
    "query4_1 = \"\"\" \n",
    "        SELECT \n",
    "            h.nombre_hotel,\n",
    "            sum(r.precio_noche)\n",
    "        FROM hoteles as h\n",
    "            INNER JOIN  reservas as r ON h.id_hotel = r.id_hotel\n",
    "        WHERE h.competencia = False\n",
    "        GROUP BY h.nombre_hotel\n",
    "        ORDER BY 2 DESC\n",
    "        LIMIT 1; \n",
    "\"\"\"\n",
    "\n",
    "cur.execute(query4_1)\n",
    "q5 =cur.fetchall()\n",
    "print(f\"El hotel del grupo que más ha recaudado ha sido {q5[0][0]}, con un total de {q5[0][1]}€.\")"
   ]
  },
  {
   "cell_type": "markdown",
   "metadata": {},
   "source": [
    "## Consulta 5: Identifica cuantos eventos hay.\n"
   ]
  },
  {
   "cell_type": "code",
   "execution_count": 33,
   "metadata": {},
   "outputs": [
    {
     "name": "stdout",
     "output_type": "stream",
     "text": [
      "Hay un total de 217 eventos.\n"
     ]
    }
   ],
   "source": [
    "# Hotel competencia con mas recaudacion\n",
    "query5 = \"\"\" \n",
    "        SELECT \n",
    "            count(id_evento)\n",
    "        FROM eventos ; \n",
    "\"\"\"\n",
    "\n",
    "cur.execute(query5)\n",
    "q6 = cur.fetchall()\n",
    "print(f\"Hay un total de {q6[0][0]} eventos.\")"
   ]
  },
  {
   "cell_type": "markdown",
   "metadata": {},
   "source": [
    "## Consulta 6: Identifica el día que más reservas se han hecho para nuestro hoteles"
   ]
  },
  {
   "cell_type": "code",
   "execution_count": 39,
   "metadata": {},
   "outputs": [
    {
     "name": "stdout",
     "output_type": "stream",
     "text": [
      "El dia que mas reservas se han realizado ha sido el 2025-02-21 con un total de 5172 reservas.\n"
     ]
    }
   ],
   "source": [
    "# Hotel competencia con mas recaudacion\n",
    "query6 = \"\"\" \n",
    "        SELECT \n",
    "            r.fecha_reserva,\n",
    "            count(r.id_reserva)\n",
    "        FROM hoteles as h\n",
    "            INNER JOIN  reservas as r ON h.id_hotel = r.id_hotel\n",
    "        WHERE h.competencia = True\n",
    "        GROUP BY r.fecha_reserva ; \n",
    "\"\"\"\n",
    "\n",
    "cur.execute(query6)\n",
    "q7 = cur.fetchall()\n",
    "print(f\"El dia que mas reservas se han realizado ha sido el {q7[0][0]} con un total de {q7[0][1]} reservas.\")\n"
   ]
  },
  {
   "cell_type": "code",
   "execution_count": 48,
   "metadata": {},
   "outputs": [],
   "source": [
    "# una vez hemos terminado de trabajar es necesario cerrar la conexión y el cursor.\n",
    "cur.close()\n",
    "conn.close()"
   ]
  },
  {
   "cell_type": "markdown",
   "metadata": {},
   "source": [
    "## Bonus Track 2\n",
    "Una vez creada la base de datos haz una o varias consultas para crear un dataframe con los datos relevantes para hacer un análisis de precios entre la competencia y nuestros hoteles para esas fechas. Realiza un análisis temporal de las fechas de reserva"
   ]
  },
  {
   "cell_type": "markdown",
   "metadata": {},
   "source": [
    "Me interesa saber las reservas de cada hotel, los precios de cada reserva, "
   ]
  },
  {
   "cell_type": "code",
   "execution_count": 63,
   "metadata": {},
   "outputs": [
    {
     "data": {
      "text/html": [
       "<div>\n",
       "<style scoped>\n",
       "    .dataframe tbody tr th:only-of-type {\n",
       "        vertical-align: middle;\n",
       "    }\n",
       "\n",
       "    .dataframe tbody tr th {\n",
       "        vertical-align: top;\n",
       "    }\n",
       "\n",
       "    .dataframe thead th {\n",
       "        text-align: right;\n",
       "    }\n",
       "</style>\n",
       "<table border=\"1\" class=\"dataframe\">\n",
       "  <thead>\n",
       "    <tr style=\"text-align: right;\">\n",
       "      <th></th>\n",
       "      <th>id_hotel</th>\n",
       "      <th>nombre_hotel</th>\n",
       "      <th>valoracion</th>\n",
       "      <th>fecha_reserva</th>\n",
       "      <th>precio_noche</th>\n",
       "      <th>id_cliente</th>\n",
       "      <th>nombre_cliente</th>\n",
       "    </tr>\n",
       "  </thead>\n",
       "  <tbody>\n",
       "    <tr>\n",
       "      <th>0</th>\n",
       "      <td>1</td>\n",
       "      <td>Hotel Monte Verde</td>\n",
       "      <td>3.10</td>\n",
       "      <td>2025-02-09</td>\n",
       "      <td>276.612381</td>\n",
       "      <td>13141</td>\n",
       "      <td>Maite Robles</td>\n",
       "    </tr>\n",
       "    <tr>\n",
       "      <th>1</th>\n",
       "      <td>2</td>\n",
       "      <td>Hotel Brisas del Mar</td>\n",
       "      <td>3.09</td>\n",
       "      <td>2025-02-08</td>\n",
       "      <td>275.225921</td>\n",
       "      <td>14814</td>\n",
       "      <td>Tecla Ferrán</td>\n",
       "    </tr>\n",
       "    <tr>\n",
       "      <th>2</th>\n",
       "      <td>3</td>\n",
       "      <td>Hotel Camino del Sol</td>\n",
       "      <td>3.07</td>\n",
       "      <td>2025-02-02</td>\n",
       "      <td>269.998444</td>\n",
       "      <td>13479</td>\n",
       "      <td>Amílcar Corominas</td>\n",
       "    </tr>\n",
       "    <tr>\n",
       "      <th>3</th>\n",
       "      <td>4</td>\n",
       "      <td>Hotel Puerta del Cielo</td>\n",
       "      <td>3.03</td>\n",
       "      <td>2025-02-08</td>\n",
       "      <td>280.151243</td>\n",
       "      <td>14680</td>\n",
       "      <td>Joan Plaza</td>\n",
       "    </tr>\n",
       "    <tr>\n",
       "      <th>4</th>\n",
       "      <td>5</td>\n",
       "      <td>Hotel Encanto Real</td>\n",
       "      <td>3.03</td>\n",
       "      <td>2025-02-09</td>\n",
       "      <td>278.243996</td>\n",
       "      <td>12680</td>\n",
       "      <td>Chelo Arévalo</td>\n",
       "    </tr>\n",
       "    <tr>\n",
       "      <th>...</th>\n",
       "      <td>...</td>\n",
       "      <td>...</td>\n",
       "      <td>...</td>\n",
       "      <td>...</td>\n",
       "      <td>...</td>\n",
       "      <td>...</td>\n",
       "      <td>...</td>\n",
       "    </tr>\n",
       "    <tr>\n",
       "      <th>9823</th>\n",
       "      <td>9</td>\n",
       "      <td>Gran Hotel Madrid</td>\n",
       "      <td>3.07</td>\n",
       "      <td>2025-02-07</td>\n",
       "      <td>264.967165</td>\n",
       "      <td>14755</td>\n",
       "      <td>Héctor Alsina</td>\n",
       "    </tr>\n",
       "    <tr>\n",
       "      <th>9824</th>\n",
       "      <td>16</td>\n",
       "      <td>Hotel Rincón Sereno</td>\n",
       "      <td>3.00</td>\n",
       "      <td>2025-02-06</td>\n",
       "      <td>277.318824</td>\n",
       "      <td>14551</td>\n",
       "      <td>Edgardo Puig</td>\n",
       "    </tr>\n",
       "    <tr>\n",
       "      <th>9825</th>\n",
       "      <td>7</td>\n",
       "      <td>Hotel Jardines del Rey</td>\n",
       "      <td>2.94</td>\n",
       "      <td>2025-02-06</td>\n",
       "      <td>272.402335</td>\n",
       "      <td>14346</td>\n",
       "      <td>Lorena Morell</td>\n",
       "    </tr>\n",
       "    <tr>\n",
       "      <th>9826</th>\n",
       "      <td>2</td>\n",
       "      <td>Hotel Brisas del Mar</td>\n",
       "      <td>3.09</td>\n",
       "      <td>2025-02-11</td>\n",
       "      <td>275.225921</td>\n",
       "      <td>14481</td>\n",
       "      <td>Nadia Aznar</td>\n",
       "    </tr>\n",
       "    <tr>\n",
       "      <th>9827</th>\n",
       "      <td>17</td>\n",
       "      <td>Hotel Vista Alegre</td>\n",
       "      <td>2.94</td>\n",
       "      <td>2025-02-08</td>\n",
       "      <td>279.802141</td>\n",
       "      <td>14208</td>\n",
       "      <td>Brígida Alcántara</td>\n",
       "    </tr>\n",
       "  </tbody>\n",
       "</table>\n",
       "<p>9828 rows × 7 columns</p>\n",
       "</div>"
      ],
      "text/plain": [
       "     id_hotel            nombre_hotel  valoracion fecha_reserva  precio_noche  \\\n",
       "0           1       Hotel Monte Verde        3.10    2025-02-09    276.612381   \n",
       "1           2    Hotel Brisas del Mar        3.09    2025-02-08    275.225921   \n",
       "2           3    Hotel Camino del Sol        3.07    2025-02-02    269.998444   \n",
       "3           4  Hotel Puerta del Cielo        3.03    2025-02-08    280.151243   \n",
       "4           5      Hotel Encanto Real        3.03    2025-02-09    278.243996   \n",
       "...       ...                     ...         ...           ...           ...   \n",
       "9823        9       Gran Hotel Madrid        3.07    2025-02-07    264.967165   \n",
       "9824       16     Hotel Rincón Sereno        3.00    2025-02-06    277.318824   \n",
       "9825        7  Hotel Jardines del Rey        2.94    2025-02-06    272.402335   \n",
       "9826        2    Hotel Brisas del Mar        3.09    2025-02-11    275.225921   \n",
       "9827       17      Hotel Vista Alegre        2.94    2025-02-08    279.802141   \n",
       "\n",
       "     id_cliente     nombre_cliente  \n",
       "0         13141       Maite Robles  \n",
       "1         14814       Tecla Ferrán  \n",
       "2         13479  Amílcar Corominas  \n",
       "3         14680         Joan Plaza  \n",
       "4         12680      Chelo Arévalo  \n",
       "...         ...                ...  \n",
       "9823      14755      Héctor Alsina  \n",
       "9824      14551       Edgardo Puig  \n",
       "9825      14346      Lorena Morell  \n",
       "9826      14481        Nadia Aznar  \n",
       "9827      14208  Brígida Alcántara  \n",
       "\n",
       "[9828 rows x 7 columns]"
      ]
     },
     "execution_count": 63,
     "metadata": {},
     "output_type": "execute_result"
    }
   ],
   "source": [
    "# df hoteles grupo \n",
    "query7 = \"\"\" \n",
    "        SELECT \n",
    "            h.id_hotel ,\n",
    "            h.nombre_hotel,\n",
    "            h.valoracion,\n",
    "            r.fecha_reserva,\n",
    "            r.precio_noche,\n",
    "            c.id_cliente,\n",
    "            concat(c.\"nombre\", ' ', c.\"apellido\")\n",
    "        FROM hoteles as h\n",
    "            INNER JOIN  reservas AS r ON h.id_hotel = r.id_hotel\n",
    "            INNER JOIN  clientes AS c ON r.id_cliente = c.id_cliente\n",
    "        WHERE h.competencia = False; \n",
    "\"\"\"\n",
    "\n",
    "cur.execute(query7)\n",
    "q7 = cur.fetchall()\n",
    "df_grupo = pd.DataFrame(q7)\n",
    "df_grupo = df_grupo.rename(columns={0: \"id_hotel\", 1: \"nombre_hotel\", 2: \"valoracion\", 3: \"fecha_reserva\", 4: \"precio_noche\", 5: \"id_cliente\", 6: \"nombre_cliente\"})\n",
    "df_grupo"
   ]
  },
  {
   "cell_type": "code",
   "execution_count": 62,
   "metadata": {},
   "outputs": [
    {
     "data": {
      "text/html": [
       "<div>\n",
       "<style scoped>\n",
       "    .dataframe tbody tr th:only-of-type {\n",
       "        vertical-align: middle;\n",
       "    }\n",
       "\n",
       "    .dataframe tbody tr th {\n",
       "        vertical-align: top;\n",
       "    }\n",
       "\n",
       "    .dataframe thead th {\n",
       "        text-align: right;\n",
       "    }\n",
       "</style>\n",
       "<table border=\"1\" class=\"dataframe\">\n",
       "  <thead>\n",
       "    <tr style=\"text-align: right;\">\n",
       "      <th></th>\n",
       "      <th>id_hotel</th>\n",
       "      <th>nombre_hotel</th>\n",
       "      <th>valoracion</th>\n",
       "      <th>fecha_reserva</th>\n",
       "      <th>precio_noche</th>\n",
       "      <th>id_cliente</th>\n",
       "      <th>nombre_cliente</th>\n",
       "    </tr>\n",
       "  </thead>\n",
       "  <tbody>\n",
       "    <tr>\n",
       "      <th>0</th>\n",
       "      <td>20</td>\n",
       "      <td>ibis Styles Madrid Prado</td>\n",
       "      <td>4.7</td>\n",
       "      <td>2025-02-21</td>\n",
       "      <td>161.0</td>\n",
       "      <td>14213</td>\n",
       "      <td>Feliciana Barberá</td>\n",
       "    </tr>\n",
       "    <tr>\n",
       "      <th>1</th>\n",
       "      <td>21</td>\n",
       "      <td>ibis budget Madrid Calle 30</td>\n",
       "      <td>4.4</td>\n",
       "      <td>2025-02-21</td>\n",
       "      <td>110.0</td>\n",
       "      <td>13282</td>\n",
       "      <td>Leonardo Aguiló</td>\n",
       "    </tr>\n",
       "    <tr>\n",
       "      <th>2</th>\n",
       "      <td>22</td>\n",
       "      <td>ibis Madrid Centro las Ventas</td>\n",
       "      <td>4.5</td>\n",
       "      <td>2025-02-21</td>\n",
       "      <td>172.0</td>\n",
       "      <td>14238</td>\n",
       "      <td>Judith Sáenz</td>\n",
       "    </tr>\n",
       "    <tr>\n",
       "      <th>3</th>\n",
       "      <td>23</td>\n",
       "      <td>ibis budget Madrid Centro las Ventas</td>\n",
       "      <td>4.3</td>\n",
       "      <td>2025-02-21</td>\n",
       "      <td>119.0</td>\n",
       "      <td>12657</td>\n",
       "      <td>Adolfo Menendez</td>\n",
       "    </tr>\n",
       "    <tr>\n",
       "      <th>4</th>\n",
       "      <td>24</td>\n",
       "      <td>ibis budget Madrid Vallecas</td>\n",
       "      <td>4.3</td>\n",
       "      <td>2025-02-21</td>\n",
       "      <td>102.0</td>\n",
       "      <td>14229</td>\n",
       "      <td>María Carmen Moliner</td>\n",
       "    </tr>\n",
       "    <tr>\n",
       "      <th>...</th>\n",
       "      <td>...</td>\n",
       "      <td>...</td>\n",
       "      <td>...</td>\n",
       "      <td>...</td>\n",
       "      <td>...</td>\n",
       "      <td>...</td>\n",
       "      <td>...</td>\n",
       "    </tr>\n",
       "    <tr>\n",
       "      <th>5167</th>\n",
       "      <td>28</td>\n",
       "      <td>ibis Madrid Alcobendas</td>\n",
       "      <td>4.4</td>\n",
       "      <td>2025-02-21</td>\n",
       "      <td>85.0</td>\n",
       "      <td>14901</td>\n",
       "      <td>Jesusa Espinosa</td>\n",
       "    </tr>\n",
       "    <tr>\n",
       "      <th>5168</th>\n",
       "      <td>26</td>\n",
       "      <td>ibis Madrid Alcorcon Tresaguas</td>\n",
       "      <td>4.4</td>\n",
       "      <td>2025-02-21</td>\n",
       "      <td>90.0</td>\n",
       "      <td>14902</td>\n",
       "      <td>Cruz Hurtado</td>\n",
       "    </tr>\n",
       "    <tr>\n",
       "      <th>5169</th>\n",
       "      <td>27</td>\n",
       "      <td>ibis budget Madrid Aeropuerto</td>\n",
       "      <td>4.0</td>\n",
       "      <td>2025-02-21</td>\n",
       "      <td>88.0</td>\n",
       "      <td>14903</td>\n",
       "      <td>Jose Francisco Cortes</td>\n",
       "    </tr>\n",
       "    <tr>\n",
       "      <th>5170</th>\n",
       "      <td>23</td>\n",
       "      <td>ibis budget Madrid Centro las Ventas</td>\n",
       "      <td>4.3</td>\n",
       "      <td>2025-02-21</td>\n",
       "      <td>119.0</td>\n",
       "      <td>14904</td>\n",
       "      <td>Toño Narváez</td>\n",
       "    </tr>\n",
       "    <tr>\n",
       "      <th>5171</th>\n",
       "      <td>21</td>\n",
       "      <td>ibis budget Madrid Calle 30</td>\n",
       "      <td>4.4</td>\n",
       "      <td>2025-02-21</td>\n",
       "      <td>110.0</td>\n",
       "      <td>14905</td>\n",
       "      <td>Custodia Marco</td>\n",
       "    </tr>\n",
       "  </tbody>\n",
       "</table>\n",
       "<p>5172 rows × 7 columns</p>\n",
       "</div>"
      ],
      "text/plain": [
       "     id_hotel                          nombre_hotel  valoracion fecha_reserva  \\\n",
       "0          20              ibis Styles Madrid Prado         4.7    2025-02-21   \n",
       "1          21           ibis budget Madrid Calle 30         4.4    2025-02-21   \n",
       "2          22         ibis Madrid Centro las Ventas         4.5    2025-02-21   \n",
       "3          23  ibis budget Madrid Centro las Ventas         4.3    2025-02-21   \n",
       "4          24           ibis budget Madrid Vallecas         4.3    2025-02-21   \n",
       "...       ...                                   ...         ...           ...   \n",
       "5167       28                ibis Madrid Alcobendas         4.4    2025-02-21   \n",
       "5168       26        ibis Madrid Alcorcon Tresaguas         4.4    2025-02-21   \n",
       "5169       27         ibis budget Madrid Aeropuerto         4.0    2025-02-21   \n",
       "5170       23  ibis budget Madrid Centro las Ventas         4.3    2025-02-21   \n",
       "5171       21           ibis budget Madrid Calle 30         4.4    2025-02-21   \n",
       "\n",
       "      precio_noche id_cliente         nombre_cliente  \n",
       "0            161.0      14213      Feliciana Barberá  \n",
       "1            110.0      13282        Leonardo Aguiló  \n",
       "2            172.0      14238           Judith Sáenz  \n",
       "3            119.0      12657        Adolfo Menendez  \n",
       "4            102.0      14229   María Carmen Moliner  \n",
       "...            ...        ...                    ...  \n",
       "5167          85.0      14901        Jesusa Espinosa  \n",
       "5168          90.0      14902           Cruz Hurtado  \n",
       "5169          88.0      14903  Jose Francisco Cortes  \n",
       "5170         119.0      14904           Toño Narváez  \n",
       "5171         110.0      14905         Custodia Marco  \n",
       "\n",
       "[5172 rows x 7 columns]"
      ]
     },
     "execution_count": 62,
     "metadata": {},
     "output_type": "execute_result"
    }
   ],
   "source": [
    "# df hoteles competencia \n",
    "query8 = \"\"\" \n",
    "        SELECT \n",
    "            h.id_hotel ,\n",
    "            h.nombre_hotel,\n",
    "            h.valoracion,\n",
    "            r.fecha_reserva,\n",
    "            r.precio_noche,\n",
    "            c.id_cliente,\n",
    "            concat(c.\"nombre\", ' ', c.\"apellido\")\n",
    "        FROM hoteles as h\n",
    "            INNER JOIN  reservas as r ON h.id_hotel = r.id_hotel\n",
    "            INNER JOIN  clientes AS c ON r.id_cliente = c.id_cliente\n",
    "        WHERE h.competencia = True; \n",
    "\"\"\"\n",
    "\n",
    "cur.execute(query8)\n",
    "q8 = cur.fetchall()\n",
    "df_competencia = pd.DataFrame(q8)\n",
    "df_competencia = df_competencia.rename(columns={0: \"id_hotel\", 1: \"nombre_hotel\", 2: \"valoracion\", 3: \"fecha_reserva\", 4: \"precio_noche\", 5: \"id_cliente\", 6: \"nombre_cliente\"})\n",
    "df_competencia"
   ]
  }
 ],
 "metadata": {
  "kernelspec": {
   "display_name": "venv",
   "language": "python",
   "name": "python3"
  },
  "language_info": {
   "codemirror_mode": {
    "name": "ipython",
    "version": 3
   },
   "file_extension": ".py",
   "mimetype": "text/x-python",
   "name": "python",
   "nbconvert_exporter": "python",
   "pygments_lexer": "ipython3",
   "version": "3.12.4"
  }
 },
 "nbformat": 4,
 "nbformat_minor": 2
}
