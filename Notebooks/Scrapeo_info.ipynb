{
 "cells": [
  {
   "cell_type": "markdown",
   "metadata": {},
   "source": [
    "# Scrapeo de información\n",
    "En este jupyter realizaremos el scrapeo en la página web de Ibis, de la información necesaria. Extraeremos la información sobre los nombres de los hoteles de la competencia, sus estrellas, y sus precios por noche. "
   ]
  },
  {
   "cell_type": "markdown",
   "metadata": {},
   "source": [
    "La web de la que sacaremos la información es la siguiente: https://ibis.accor.com/es/destination/city/hotels-madrid-v2418.html "
   ]
  },
  {
   "cell_type": "markdown",
   "metadata": {},
   "source": [
    "url con filtros aplicados (fechas estancias y disponibilidad): https://all.accor.com/ssr/app/ibis/hotels/madrid-spain/open/index.es.shtml?compositions=1&stayplus=false&snu=false&hideWDR=false&accessibleRooms=false&hideHotelDetails=false&dateIn=2025-03-01&nights=1&destination=madrid-spain "
   ]
  },
  {
   "cell_type": "code",
   "execution_count": 1,
   "metadata": {},
   "outputs": [],
   "source": [
    "# Importamos las librerías necesarias\n",
    "import pandas as pd \n",
    "import numpy as np\n",
    "from bs4 import BeautifulSoup as bs \n",
    "import requests\n",
    "from selenium import webdriver # esto nos permite controlar navegadores web mediante código\n",
    "from webdriver_manager.chrome import ChromeDriverManager # administra la instalación de chromedriver, que es necesario para controlar google chrome\n",
    "from selenium.webdriver.chrome.service import Service # permite gestionar el servicio del driver de chrome\n",
    "import time"
   ]
  },
  {
   "cell_type": "code",
   "execution_count": 4,
   "metadata": {},
   "outputs": [],
   "source": [
    "# Inicializamos el WebDriver para Chrome\n",
    "\n",
    "chromeService = Service(ChromeDriverManager().install())\n",
    "driver = webdriver.Chrome(service=chromeService)"
   ]
  },
  {
   "cell_type": "code",
   "execution_count": 2,
   "metadata": {},
   "outputs": [
    {
     "data": {
      "text/plain": [
       "'https://all.accor.com/ssr/app/ibis/hotels/madrid-spain/open/index.es.shtml?compositions=1&stayplus=false&snu=false&hideWDR=false&accessibleRooms=false&hideHotelDetails=false&dateIn=2025-03-01&nights=1&destination=madrid-spain'"
      ]
     },
     "execution_count": 2,
     "metadata": {},
     "output_type": "execute_result"
    }
   ],
   "source": [
    "# Creamos la variable que contiene la url de la que queremos scrapear la información\n",
    "url_ibis = \"https://all.accor.com/ssr/app/ibis/hotels/madrid-spain/open/index.es.shtml?compositions=1&stayplus=false&snu=false&hideWDR=false&accessibleRooms=false&hideHotelDetails=false&dateIn=2025-03-01&nights=1&destination=madrid-spain\"\n",
    "url_ibis"
   ]
  },
  {
   "cell_type": "code",
   "execution_count": 4,
   "metadata": {},
   "outputs": [],
   "source": [
    "# abrimos la url especificada\n",
    "driver.get(url_ibis)"
   ]
  },
  {
   "cell_type": "code",
   "execution_count": 11,
   "metadata": {},
   "outputs": [],
   "source": [
    "# buscamos un elemento en concreto, en este caso buscamos el titulo de la clase title, el cual contiene el nombre del hotel así como las estrellas del mismo \n",
    "nombre = driver.find_elements(\"css selector\", \"div.hotelblock__content\")\n",
    "estrellas = driver.find_elements(\"css selector\", \"div.hotelblock__content-ratings\")\n",
    "precios = driver.find_elements(\"css selector\", \"div.rate-details__price-wrapper\")"
   ]
  },
  {
   "cell_type": "markdown",
   "metadata": {},
   "source": [
    "#__layout > div > main > div > div.hotels > div.search-list.search-list--max-width > div > div.search-list__content__main > section > div > div.hotelsList > section > div > div:nth-child(2) > ol > li:nth-child(1) > div > div > div.hotelblock__content > div.hotelblock__content-body > div.hotelblock__content-ratings > div.ratings > p"
   ]
  },
  {
   "cell_type": "code",
   "execution_count": 8,
   "metadata": {},
   "outputs": [],
   "source": [
    "dict_hoteles = {\"nombre\": [],\n",
    "                \"estrellas\": [],\n",
    "                \"precio\": []}"
   ]
  },
  {
   "cell_type": "code",
   "execution_count": 7,
   "metadata": {},
   "outputs": [],
   "source": [
    "for hotel in nombre:\n",
    "    dict_hoteles[\"nombre\"].append(hotel.text.split(\"\\n\")[0])"
   ]
  },
  {
   "cell_type": "code",
   "execution_count": 18,
   "metadata": {},
   "outputs": [],
   "source": [
    "for estrella in estrellas:\n",
    "    dict_hoteles[\"estrellas\"].append(estrella.text.split(\"\\n\")[1].strip(\"/\"))"
   ]
  },
  {
   "cell_type": "code",
   "execution_count": 9,
   "metadata": {},
   "outputs": [],
   "source": [
    "for precio in precios:\n",
    "    dict_hoteles[\"precio\"].append(precio.text.split(\"\\n\")[1])"
   ]
  },
  {
   "cell_type": "code",
   "execution_count": 19,
   "metadata": {},
   "outputs": [
    {
     "data": {
      "text/plain": [
       "{'nombre': [],\n",
       " 'estrellas': ['En',\n",
       "  'En',\n",
       "  'En',\n",
       "  'En',\n",
       "  'En',\n",
       "  'En',\n",
       "  'En',\n",
       "  'En',\n",
       "  'En',\n",
       "  'En',\n",
       "  'Puntuación de viajeros de TripAdvisor:\\n4.7/\\nEn\\n5\\nver reseñas\\nIdeal para familias',\n",
       "  'Puntuación de viajeros de TripAdvisor:\\n4.4/\\nEn\\n5\\nver reseñas',\n",
       "  'Puntuación de viajeros de TripAdvisor:\\n4.5/\\nEn\\n5\\nver reseñas\\nIdeal para familias',\n",
       "  'Puntuación de viajeros de TripAdvisor:\\n4.3/\\nEn\\n5\\nver reseñas\\nIdeal para familias',\n",
       "  'Puntuación de viajeros de TripAdvisor:\\n4.3/\\nEn\\n5\\nver reseñas',\n",
       "  'Puntuación de viajeros de TripAdvisor:\\n4.4/\\nEn\\n5\\nver reseñas\\nIdeal para familias',\n",
       "  'Puntuación de viajeros de TripAdvisor:\\n4.4/\\nEn\\n5\\nver reseñas\\nIdeal para familias',\n",
       "  'Puntuación de viajeros de TripAdvisor:\\n4/\\nEn\\n5\\nver reseñas',\n",
       "  'Puntuación de viajeros de TripAdvisor:\\n4.4/\\nEn\\n5\\nver reseñas\\nIdeal para familias',\n",
       "  'Puntuación de viajeros de TripAdvisor:\\n4.5/\\nEn\\n5\\nver reseñas\\nIdeal para familias',\n",
       "  '4.7/',\n",
       "  '4.4/',\n",
       "  '4.5/',\n",
       "  '4.3/',\n",
       "  '4.3/',\n",
       "  '4.4/',\n",
       "  '4.4/',\n",
       "  '4/',\n",
       "  '4.4/',\n",
       "  '4.5/',\n",
       "  '4.7',\n",
       "  '4.4',\n",
       "  '4.5',\n",
       "  '4.3',\n",
       "  '4.3',\n",
       "  '4.4',\n",
       "  '4.4',\n",
       "  '4',\n",
       "  '4.4',\n",
       "  '4.5'],\n",
       " 'precio': []}"
      ]
     },
     "execution_count": 19,
     "metadata": {},
     "output_type": "execute_result"
    }
   ],
   "source": [
    "dict_hoteles"
   ]
  },
  {
   "cell_type": "code",
   "execution_count": 11,
   "metadata": {},
   "outputs": [
    {
     "data": {
      "text/html": [
       "<div>\n",
       "<style scoped>\n",
       "    .dataframe tbody tr th:only-of-type {\n",
       "        vertical-align: middle;\n",
       "    }\n",
       "\n",
       "    .dataframe tbody tr th {\n",
       "        vertical-align: top;\n",
       "    }\n",
       "\n",
       "    .dataframe thead th {\n",
       "        text-align: right;\n",
       "    }\n",
       "</style>\n",
       "<table border=\"1\" class=\"dataframe\">\n",
       "  <thead>\n",
       "    <tr style=\"text-align: right;\">\n",
       "      <th></th>\n",
       "      <th>nombre</th>\n",
       "      <th>estrellas</th>\n",
       "      <th>precio</th>\n",
       "    </tr>\n",
       "  </thead>\n",
       "  <tbody>\n",
       "    <tr>\n",
       "      <th>0</th>\n",
       "      <td>ibis Styles Madrid Prado</td>\n",
       "      <td>3</td>\n",
       "      <td>170€</td>\n",
       "    </tr>\n",
       "    <tr>\n",
       "      <th>1</th>\n",
       "      <td>ibis Madrid Centro las Ventas</td>\n",
       "      <td>2</td>\n",
       "      <td>172€</td>\n",
       "    </tr>\n",
       "    <tr>\n",
       "      <th>2</th>\n",
       "      <td>ibis budget Madrid Vallecas</td>\n",
       "      <td>1</td>\n",
       "      <td>95€</td>\n",
       "    </tr>\n",
       "    <tr>\n",
       "      <th>3</th>\n",
       "      <td>ibis Madrid Aeropuerto Barajas</td>\n",
       "      <td>2</td>\n",
       "      <td>116€</td>\n",
       "    </tr>\n",
       "    <tr>\n",
       "      <th>4</th>\n",
       "      <td>ibis Madrid Alcorcon Tresaguas</td>\n",
       "      <td>2</td>\n",
       "      <td>90€</td>\n",
       "    </tr>\n",
       "    <tr>\n",
       "      <th>5</th>\n",
       "      <td>ibis budget Madrid Aeropuerto</td>\n",
       "      <td>1</td>\n",
       "      <td>97€</td>\n",
       "    </tr>\n",
       "    <tr>\n",
       "      <th>6</th>\n",
       "      <td>ibis Madrid Alcobendas</td>\n",
       "      <td>2</td>\n",
       "      <td>84€</td>\n",
       "    </tr>\n",
       "    <tr>\n",
       "      <th>7</th>\n",
       "      <td>ibis budget Madrid Alcorcon Móstoles</td>\n",
       "      <td>2</td>\n",
       "      <td>77€</td>\n",
       "    </tr>\n",
       "    <tr>\n",
       "      <th>8</th>\n",
       "      <td>ibis Madrid Fuenlabrada</td>\n",
       "      <td>2</td>\n",
       "      <td>86€</td>\n",
       "    </tr>\n",
       "    <tr>\n",
       "      <th>9</th>\n",
       "      <td>ibis Madrid Alcala de Henares La Garena</td>\n",
       "      <td>3</td>\n",
       "      <td>83€</td>\n",
       "    </tr>\n",
       "  </tbody>\n",
       "</table>\n",
       "</div>"
      ],
      "text/plain": [
       "                                    nombre estrellas precio\n",
       "0                 ibis Styles Madrid Prado         3   170€\n",
       "1            ibis Madrid Centro las Ventas         2   172€\n",
       "2              ibis budget Madrid Vallecas         1    95€\n",
       "3           ibis Madrid Aeropuerto Barajas         2   116€\n",
       "4           ibis Madrid Alcorcon Tresaguas         2    90€\n",
       "5            ibis budget Madrid Aeropuerto         1    97€\n",
       "6                   ibis Madrid Alcobendas         2    84€\n",
       "7     ibis budget Madrid Alcorcon Móstoles         2    77€\n",
       "8                  ibis Madrid Fuenlabrada         2    86€\n",
       "9  ibis Madrid Alcala de Henares La Garena         3    83€"
      ]
     },
     "execution_count": 11,
     "metadata": {},
     "output_type": "execute_result"
    }
   ],
   "source": [
    "df_hoteles_comp = pd.DataFrame(dict_hoteles)\n",
    "df_hoteles_comp"
   ]
  },
  {
   "cell_type": "code",
   "execution_count": 9,
   "metadata": {},
   "outputs": [],
   "source": [
    "def scrapeo_competencia(url):\n",
    "    \n",
    "    chromeService = Service(ChromeDriverManager().install())\n",
    "    driver = webdriver.Chrome(service=chromeService)\n",
    "\n",
    "    driver.get(url_ibis)\n",
    "\n",
    "    time.sleep(10)\n",
    "\n",
    "    nombre_hotel = driver.find_elements(\"css selector\", \"div.hotelblock__content\")\n",
    "    estrellas_hotel = driver.find_elements(\"css selector\", \"div.hotelblock__content-ratings\")\n",
    "    precios_hotel = driver.find_elements(\"css selector\", \"div.rate-details__price-wrapper\")\n",
    "\n",
    "    diccionario_hoteles = {\"nombre_hotel\": [],\n",
    "                \"valoracion\": [],\n",
    "                \"precio\": []}\n",
    "    \n",
    "    for hotel in nombre_hotel:\n",
    "        diccionario_hoteles[\"nombre_hotel\"].append(hotel.text.split(\"\\n\")[0])\n",
    "    \n",
    "    for estrella in estrellas_hotel:\n",
    "        diccionario_hoteles[\"valoracion\"].append(estrella.text.split(\"\\n\")[1].strip(\"/\"))\n",
    "    \n",
    "    for precio in precios_hotel:\n",
    "        diccionario_hoteles[\"precio\"].append(precio.text.split(\"\\n\")[1])\n",
    "\n",
    "    hoteles_competencia = pd.DataFrame(diccionario_hoteles)\n",
    "    hoteles_competencia[\"precio\"] = hoteles_competencia[\"precio\"].str.replace(\"€\", \"\").astype(float)\n",
    "    hoteles_competencia[\"valoracion\"] = hoteles_competencia[\"valoracion\"].astype(float)\n",
    "    hoteles_competencia[\"fecha_reserva\"] = pd.to_datetime(\"2025-02-21\")\n",
    "    \n",
    "    hoteles_competencia.to_csv(\"../data/hoteles_competencia.csv\", index = False)\n",
    "    driver.close()"
   ]
  },
  {
   "cell_type": "code",
   "execution_count": 10,
   "metadata": {},
   "outputs": [],
   "source": [
    "scrapeo_competencia(url_ibis)"
   ]
  },
  {
   "cell_type": "code",
   "execution_count": 12,
   "metadata": {},
   "outputs": [
    {
     "name": "stdout",
     "output_type": "stream",
     "text": [
      "<class 'pandas.core.frame.DataFrame'>\n",
      "RangeIndex: 10 entries, 0 to 9\n",
      "Data columns (total 4 columns):\n",
      " #   Column         Non-Null Count  Dtype         \n",
      "---  ------         --------------  -----         \n",
      " 0   nombre_hotel   10 non-null     object        \n",
      " 1   valoracion     10 non-null     float64       \n",
      " 2   precio         10 non-null     float64       \n",
      " 3   fecha_reserva  10 non-null     datetime64[ns]\n",
      "dtypes: datetime64[ns](1), float64(2), object(1)\n",
      "memory usage: 452.0+ bytes\n"
     ]
    }
   ],
   "source": [
    "df = pd.read_csv(\"../data/hoteles_competencia.csv\", parse_dates = [\"fecha_reserva\"])\n",
    "df.info()"
   ]
  }
 ],
 "metadata": {
  "kernelspec": {
   "display_name": "venv",
   "language": "python",
   "name": "python3"
  },
  "language_info": {
   "codemirror_mode": {
    "name": "ipython",
    "version": 3
   },
   "file_extension": ".py",
   "mimetype": "text/x-python",
   "name": "python",
   "nbconvert_exporter": "python",
   "pygments_lexer": "ipython3",
   "version": "3.12.4"
  }
 },
 "nbformat": 4,
 "nbformat_minor": 2
}
