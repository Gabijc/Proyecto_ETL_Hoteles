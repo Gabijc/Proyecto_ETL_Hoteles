{
 "cells": [
  {
   "cell_type": "markdown",
   "metadata": {},
   "source": [
    "# Carga de información a la base de datos BBDD_Hoteles\n",
    "\n",
    "En este documento realizamos la carga de los datos limpiados a la base de sql."
   ]
  },
  {
   "cell_type": "code",
   "execution_count": 1,
   "metadata": {},
   "outputs": [],
   "source": [
    "# Importamos las librerías necesarias\n",
    "import pandas as pd\n",
    "import numpy as np\n",
    "import psycopg2 as ps"
   ]
  },
  {
   "cell_type": "code",
   "execution_count": 2,
   "metadata": {},
   "outputs": [
    {
     "name": "stdout",
     "output_type": "stream",
     "text": [
      "<class 'pandas.core.frame.DataFrame'>\n",
      "RangeIndex: 15000 entries, 0 to 14999\n",
      "Data columns (total 14 columns):\n",
      " #   Column           Non-Null Count  Dtype         \n",
      "---  ------           --------------  -----         \n",
      " 0   id_reserva       15000 non-null  object        \n",
      " 1   id_cliente       15000 non-null  object        \n",
      " 2   nombre           15000 non-null  object        \n",
      " 3   apellido         15000 non-null  object        \n",
      " 4   mail             15000 non-null  object        \n",
      " 5   competencia      15000 non-null  bool          \n",
      " 6   fecha_reserva    15000 non-null  datetime64[ns]\n",
      " 7   inicio_estancia  15000 non-null  datetime64[ns]\n",
      " 8   final_estancia   15000 non-null  datetime64[ns]\n",
      " 9   id_hotel         15000 non-null  object        \n",
      " 10  nombre_hotel     15000 non-null  object        \n",
      " 11  estrellas        15000 non-null  float64       \n",
      " 12  ciudad           15000 non-null  object        \n",
      " 13  precio_noche     15000 non-null  float64       \n",
      "dtypes: bool(1), datetime64[ns](3), float64(2), object(8)\n",
      "memory usage: 1.5+ MB\n"
     ]
    }
   ],
   "source": [
    "# Importamos el csv con la información de las reservas, los hoteles y los clientes\n",
    "data = pd.read_csv(\"../data/reservas_hoteles_limpio.csv\", parse_dates=['fecha_reserva', 'inicio_estancia', 'final_estancia'], dtype={'id_cliente': str, 'id_hotel': str})\n",
    "data.info()"
   ]
  },
  {
   "cell_type": "code",
   "execution_count": 3,
   "metadata": {},
   "outputs": [
    {
     "data": {
      "text/html": [
       "<div>\n",
       "<style scoped>\n",
       "    .dataframe tbody tr th:only-of-type {\n",
       "        vertical-align: middle;\n",
       "    }\n",
       "\n",
       "    .dataframe tbody tr th {\n",
       "        vertical-align: top;\n",
       "    }\n",
       "\n",
       "    .dataframe thead th {\n",
       "        text-align: right;\n",
       "    }\n",
       "</style>\n",
       "<table border=\"1\" class=\"dataframe\">\n",
       "  <thead>\n",
       "    <tr style=\"text-align: right;\">\n",
       "      <th></th>\n",
       "      <th>id_hotel</th>\n",
       "      <th>nombre_hotel</th>\n",
       "    </tr>\n",
       "  </thead>\n",
       "  <tbody>\n",
       "    <tr>\n",
       "      <th>0</th>\n",
       "      <td>1</td>\n",
       "      <td>Hotel Monte Verde</td>\n",
       "    </tr>\n",
       "    <tr>\n",
       "      <th>1</th>\n",
       "      <td>2</td>\n",
       "      <td>Hotel Brisas del Mar</td>\n",
       "    </tr>\n",
       "    <tr>\n",
       "      <th>2</th>\n",
       "      <td>3</td>\n",
       "      <td>Hotel Camino del Sol</td>\n",
       "    </tr>\n",
       "    <tr>\n",
       "      <th>3</th>\n",
       "      <td>4</td>\n",
       "      <td>Hotel Puerta del Cielo</td>\n",
       "    </tr>\n",
       "    <tr>\n",
       "      <th>4</th>\n",
       "      <td>5</td>\n",
       "      <td>Hotel Encanto Real</td>\n",
       "    </tr>\n",
       "    <tr>\n",
       "      <th>...</th>\n",
       "      <td>...</td>\n",
       "      <td>...</td>\n",
       "    </tr>\n",
       "    <tr>\n",
       "      <th>14995</th>\n",
       "      <td>28</td>\n",
       "      <td>ibis Madrid Alcobendas</td>\n",
       "    </tr>\n",
       "    <tr>\n",
       "      <th>14996</th>\n",
       "      <td>26</td>\n",
       "      <td>ibis Madrid Alcorcon Tresaguas</td>\n",
       "    </tr>\n",
       "    <tr>\n",
       "      <th>14997</th>\n",
       "      <td>27</td>\n",
       "      <td>ibis budget Madrid Aeropuerto</td>\n",
       "    </tr>\n",
       "    <tr>\n",
       "      <th>14998</th>\n",
       "      <td>23</td>\n",
       "      <td>ibis budget Madrid Centro las Ventas</td>\n",
       "    </tr>\n",
       "    <tr>\n",
       "      <th>14999</th>\n",
       "      <td>21</td>\n",
       "      <td>ibis budget Madrid Calle 30</td>\n",
       "    </tr>\n",
       "  </tbody>\n",
       "</table>\n",
       "<p>15000 rows × 2 columns</p>\n",
       "</div>"
      ],
      "text/plain": [
       "      id_hotel                          nombre_hotel\n",
       "0            1                     Hotel Monte Verde\n",
       "1            2                  Hotel Brisas del Mar\n",
       "2            3                  Hotel Camino del Sol\n",
       "3            4                Hotel Puerta del Cielo\n",
       "4            5                    Hotel Encanto Real\n",
       "...        ...                                   ...\n",
       "14995       28                ibis Madrid Alcobendas\n",
       "14996       26        ibis Madrid Alcorcon Tresaguas\n",
       "14997       27         ibis budget Madrid Aeropuerto\n",
       "14998       23  ibis budget Madrid Centro las Ventas\n",
       "14999       21           ibis budget Madrid Calle 30\n",
       "\n",
       "[15000 rows x 2 columns]"
      ]
     },
     "execution_count": 3,
     "metadata": {},
     "output_type": "execute_result"
    }
   ],
   "source": [
    "data[[\"id_hotel\", \"nombre_hotel\"]]"
   ]
  },
  {
   "cell_type": "code",
   "execution_count": 13,
   "metadata": {},
   "outputs": [
    {
     "name": "stdout",
     "output_type": "stream",
     "text": [
      "<class 'pandas.core.frame.DataFrame'>\n",
      "RangeIndex: 217 entries, 0 to 216\n",
      "Data columns (total 8 columns):\n",
      " #   Column         Non-Null Count  Dtype         \n",
      "---  ------         --------------  -----         \n",
      " 0   nombre_evento  217 non-null    object        \n",
      " 1   url_evento     217 non-null    object        \n",
      " 2   codigo_postal  217 non-null    int64         \n",
      " 3   direccion      201 non-null    object        \n",
      " 4   horario        134 non-null    object        \n",
      " 5   organizacion   202 non-null    object        \n",
      " 6   fecha_inicio   217 non-null    datetime64[ns]\n",
      " 7   fecha_fin      217 non-null    datetime64[ns]\n",
      "dtypes: datetime64[ns](2), int64(1), object(5)\n",
      "memory usage: 13.7+ KB\n"
     ]
    }
   ],
   "source": [
    "# Importamos el csv con los eventos de Madrid sacados de la API\n",
    "eventos = pd.read_csv(\"../data/eventos_madrid.csv\", parse_dates=['fecha_inicio', 'fecha_fin'])\n",
    "eventos.info()"
   ]
  },
  {
   "cell_type": "markdown",
   "metadata": {},
   "source": [
    "## Inicialización de la conexión con la BBDD y el cursor"
   ]
  },
  {
   "cell_type": "code",
   "execution_count": 6,
   "metadata": {},
   "outputs": [],
   "source": [
    "# Creamos la conexión a la base de datos\n",
    "# Vamos a crear una conexión a la base de datos.\n",
    "conn = ps.connect(\n",
    "    dbname = \"BBDD_Hoteles\", # base a la que nos queremos conectar\n",
    "    user = \"postgres\",\n",
    "    password = \"admin\",\n",
    "    host = \"localhost\",\n",
    "    port = \"5432\" # puerto en el que s eencuentra postgres\n",
    ")"
   ]
  },
  {
   "cell_type": "code",
   "execution_count": 7,
   "metadata": {},
   "outputs": [],
   "source": [
    "# Creamos un cursor el cual nos va a permitir ejecutar querys.\n",
    "cur = conn.cursor()"
   ]
  },
  {
   "cell_type": "code",
   "execution_count": 8,
   "metadata": {},
   "outputs": [
    {
     "data": {
      "text/plain": [
       "('PostgreSQL 16.4, compiled by Visual C++ build 1940, 64-bit',)"
      ]
     },
     "execution_count": 8,
     "metadata": {},
     "output_type": "execute_result"
    }
   ],
   "source": [
    "# COmprobamos que la conexión está creada y conectada\n",
    "cur.execute(\"SELECT version();\")\n",
    "cur.fetchone() "
   ]
  },
  {
   "cell_type": "markdown",
   "metadata": {},
   "source": [
    "## Inserción de datos"
   ]
  },
  {
   "cell_type": "code",
   "execution_count": 10,
   "metadata": {},
   "outputs": [
    {
     "data": {
      "text/plain": [
       "np.int64(0)"
      ]
     },
     "execution_count": 10,
     "metadata": {},
     "output_type": "execute_result"
    }
   ],
   "source": [
    "# COmprobamos que no haya valores duplicados en ambos dataframes\n",
    "# data = data.drop_duplicates()\n",
    "data.duplicated().sum()"
   ]
  },
  {
   "cell_type": "markdown",
   "metadata": {},
   "source": [
    "### Tabla ciudad"
   ]
  },
  {
   "cell_type": "code",
   "execution_count": 18,
   "metadata": {},
   "outputs": [],
   "source": [
    "data_insert_ciudad = [\"Madrid\"]"
   ]
  },
  {
   "cell_type": "code",
   "execution_count": 19,
   "metadata": {},
   "outputs": [],
   "source": [
    "# Creamos la query de inserción de los datos de ciudad\n",
    "insert_query_ciudad = \"\"\" \n",
    "                        INSERT INTO ciudad (nombre_ciudad)\n",
    "                        VALUES (%s) \n",
    "\"\"\""
   ]
  },
  {
   "cell_type": "code",
   "execution_count": 20,
   "metadata": {},
   "outputs": [],
   "source": [
    "# Ejecutamos la query y le indicamos que solo tenemos una ciudad que es Madrid\n",
    "cur.execute(insert_query_ciudad, data_insert_ciudad)\n",
    "conn.commit()"
   ]
  },
  {
   "cell_type": "code",
   "execution_count": 11,
   "metadata": {},
   "outputs": [
    {
     "data": {
      "text/plain": [
       "[(1, 'Madrid')]"
      ]
     },
     "execution_count": 11,
     "metadata": {},
     "output_type": "execute_result"
    }
   ],
   "source": [
    "# vamos a comprobar que se ha creado correctamente\n",
    "query_ciudad = \"\"\"\n",
    "    SELECT * \n",
    "    FROM ciudad; \n",
    "\"\"\"\n",
    "cur.execute(query_ciudad)\n",
    "cur.fetchall()"
   ]
  },
  {
   "cell_type": "markdown",
   "metadata": {},
   "source": [
    "# NO VOLVER A EJECUTAR LA QUERY DE CIUDAD, ESTA YA INSERTADA"
   ]
  },
  {
   "cell_type": "markdown",
   "metadata": {},
   "source": [
    "### Tabla eventos"
   ]
  },
  {
   "cell_type": "code",
   "execution_count": 12,
   "metadata": {},
   "outputs": [
    {
     "data": {
      "text/plain": [
       "{'Madrid': 1}"
      ]
     },
     "execution_count": 12,
     "metadata": {},
     "output_type": "execute_result"
    }
   ],
   "source": [
    "# Sacamos el id de ciudad de la tabla de ciudad\n",
    "cur.execute(\"SELECT nombre_ciudad, id_ciudad FROM ciudad\")\n",
    "dictio_ciudad = dict(cur.fetchall())\n",
    "dictio_ciudad"
   ]
  },
  {
   "cell_type": "code",
   "execution_count": 23,
   "metadata": {},
   "outputs": [],
   "source": [
    "# Creamos la lista que va a contener toda la información \n",
    "data_insert_eventos = []\n",
    "\n",
    "# Vamos iterando por cada columna del dataframe y cada fila de cada columna, obteniendo los elementos de las filas (row)\n",
    "for i, row in eventos.iterrows():\n",
    "    nombre_evento = row[\"nombre_evento\"]\n",
    "    url_evento = row[\"url_evento\"]\n",
    "    codigo_postal = row[\"codigo_postal\"]\n",
    "    direccion = row[\"direccion\"] if pd.notna(row[\"direccion\"]) else None # tenemos valores nulos en esta columna, de manera que le indicamos, que si el elemento no es nulo nos lo coja, y si es nulo, nos incluya un None, ya que sql no acepta valores nulos que no sean None\n",
    "    horario = row[\"horario\"] if pd.notna(row[\"horario\"]) else None\n",
    "    fecha_inicio = row[\"fecha_inicio\"]\n",
    "    fecha_fin = row[\"fecha_fin\"]\n",
    "    organizacion = row[\"organizacion\"] if pd.notna(row[\"organizacion\"]) else None\n",
    "    id_ciudad = dictio_ciudad.get(\"Madrid\")\n",
    "\n",
    "    # incluimos los valores en la lista\n",
    "    data_insert_eventos.append((nombre_evento, url_evento, codigo_postal, direccion, horario, fecha_inicio, fecha_fin, organizacion, id_ciudad))"
   ]
  },
  {
   "cell_type": "code",
   "execution_count": 24,
   "metadata": {},
   "outputs": [],
   "source": [
    "# Creamos la query de inserción de los datos de eventos\n",
    "insert_query_eventos = \"\"\" \n",
    "                        INSERT INTO eventos (nombre_evento, url_evento, codigo_postal, direccion, horario,\n",
    "                        fecha_inicio, fecha_fin,organizacion, id_ciudad)\n",
    "                        VALUES (%s, %s, %s, %s, %s, %s, %s, %s, %s)\n",
    "\"\"\""
   ]
  },
  {
   "cell_type": "code",
   "execution_count": 25,
   "metadata": {},
   "outputs": [],
   "source": [
    "# Ejecutamos la query y le indicamos los valores \n",
    "cur.executemany(insert_query_eventos, data_insert_eventos)\n",
    "conn.commit()"
   ]
  },
  {
   "cell_type": "code",
   "execution_count": 7,
   "metadata": {},
   "outputs": [
    {
     "data": {
      "text/plain": [
       "[(1,\n",
       "  '25º aniversario de la revista La Fragua',\n",
       "  'http://www.madrid.es/sites/v/index.jsp?vgnextchannel=ca9671ee4a9eb410VgnVCM100000171f5a0aRCRD&vgnextoid=1ea220bed10d4910VgnVCM2000001f4a900aRCRD',\n",
       "  28005,\n",
       "  'CALLE SAN JUSTO 5',\n",
       "  None,\n",
       "  datetime.date(2025, 2, 24),\n",
       "  datetime.date(2025, 3, 2),\n",
       "  'Biblioteca Pública Municipal Iván de Vargas (Centro)',\n",
       "  1),\n",
       " (2,\n",
       "  '60 Premio Reina Sofía de Pintura y Escultura',\n",
       "  'http://www.madrid.es/sites/v/index.jsp?vgnextchannel=ca9671ee4a9eb410VgnVCM100000171f5a0aRCRD&vgnextoid=34c5130393e15910VgnVCM2000001f4a900aRCRD',\n",
       "  28009,\n",
       "  'PASEO COLOMBIA 1',\n",
       "  None,\n",
       "  datetime.date(2025, 2, 27),\n",
       "  datetime.date(2025, 3, 23),\n",
       "  'Centro Cultural Casa de Vacas (Retiro)',\n",
       "  1),\n",
       " (3,\n",
       "  'A toda vela',\n",
       "  'http://www.madrid.es/sites/v/index.jsp?vgnextchannel=ca9671ee4a9eb410VgnVCM100000171f5a0aRCRD&vgnextoid=59d5e7da8b822910VgnVCM1000001d4a900aRCRD',\n",
       "  28045,\n",
       "  'PLAZA LEGAZPI 8',\n",
       "  None,\n",
       "  datetime.date(2024, 10, 1),\n",
       "  datetime.date(2025, 6, 1),\n",
       "  'Matadero Madrid',\n",
       "  1)]"
      ]
     },
     "execution_count": 7,
     "metadata": {},
     "output_type": "execute_result"
    }
   ],
   "source": [
    "# vamos a comprobar que se ha creado correctamente\n",
    "query_eventos = \"\"\"\n",
    "    SELECT * \n",
    "    FROM eventos; \n",
    "\"\"\"\n",
    "cur.execute(query_eventos)\n",
    "cur.fetchmany(3)"
   ]
  },
  {
   "cell_type": "markdown",
   "metadata": {},
   "source": [
    "# NO VOLVER A EJECUTAR LA QUERY DE EVENTOS, ESTA YA INSERTADA"
   ]
  },
  {
   "cell_type": "markdown",
   "metadata": {},
   "source": [
    "### Tabla hoteles"
   ]
  },
  {
   "cell_type": "code",
   "execution_count": 8,
   "metadata": {},
   "outputs": [
    {
     "data": {
      "text/plain": [
       "Index(['id_reserva', 'id_cliente', 'nombre', 'apellido', 'mail', 'competencia',\n",
       "       'fecha_reserva', 'inicio_estancia', 'final_estancia', 'id_hotel',\n",
       "       'nombre_hotel', 'estrellas', 'ciudad', 'precio_noche'],\n",
       "      dtype='object')"
      ]
     },
     "execution_count": 8,
     "metadata": {},
     "output_type": "execute_result"
    }
   ],
   "source": [
    "# revisar tipo de datos\n",
    "data.columns"
   ]
  },
  {
   "cell_type": "code",
   "execution_count": 16,
   "metadata": {},
   "outputs": [],
   "source": [
    "data_insert_hotels = []\n",
    "\n",
    "for _, row in data.iterrows():\n",
    "    id_hotel = row[\"id_hotel\"]\n",
    "    nombre_hotel = row[\"nombre_hotel\"] \n",
    "    competencia = row[\"competencia\"] \n",
    "    valoracion = row[\"estrellas\"] \n",
    "    id_ciudad = dictio_ciudad.get(\"Madrid\") \n",
    "\n",
    "    tupla_hotel = (id_hotel, nombre_hotel, competencia, valoracion, id_ciudad)\n",
    "\n",
    "    if tupla_hotel not in data_insert_hotels:\n",
    "        data_insert_hotels.append(tupla_hotel)"
   ]
  },
  {
   "cell_type": "code",
   "execution_count": 17,
   "metadata": {},
   "outputs": [
    {
     "data": {
      "text/plain": [
       "[('1', 'Hotel Monte Verde', False, 1.0, 1),\n",
       " ('2', 'Hotel Brisas del Mar', False, 5.0, 1),\n",
       " ('3', 'Hotel Camino del Sol', False, 1.0, 1),\n",
       " ('4', 'Hotel Puerta del Cielo', False, 5.0, 1),\n",
       " ('5', 'Hotel Encanto Real', False, 1.0, 1),\n",
       " ('6', 'Palacio del Sol', False, 4.0, 1),\n",
       " ('7', 'Hotel Jardines del Rey', False, 3.0, 1),\n",
       " ('8', 'Hotel Las Estrellas', False, 4.0, 1),\n",
       " ('9', 'Gran Hotel Madrid', False, 2.0, 1),\n",
       " ('10', 'Hotel Torre Dorada', False, 3.0, 1),\n",
       " ('11', 'Hotel Palacio Imperial', False, 2.0, 1),\n",
       " ('3', 'Hotel Camino del Sol', False, 3.0, 1),\n",
       " ('12', 'Hotel Luz de Madrid', False, 3.0, 1),\n",
       " ('13', 'Hotel Los Almendros', False, 5.0, 1),\n",
       " ('11', 'Hotel Palacio Imperial', False, 5.0, 1),\n",
       " ('14', 'Hotel Sol y Luna', False, 1.0, 1),\n",
       " ('15', 'Hotel Mirador Real', False, 5.0, 1),\n",
       " ('8', 'Hotel Las Estrellas', False, 5.0, 1),\n",
       " ('1', 'Hotel Monte Verde', False, 4.0, 1),\n",
       " ('4', 'Hotel Puerta del Cielo', False, 2.0, 1),\n",
       " ('16', 'Hotel Rincón Sereno', False, 1.0, 1),\n",
       " ('17', 'Hotel Vista Alegre', False, 4.0, 1),\n",
       " ('13', 'Hotel Los Almendros', False, 2.0, 1),\n",
       " ('18', 'Hotel Costa Azul', False, 2.0, 1),\n",
       " ('18', 'Hotel Costa Azul', False, 5.0, 1),\n",
       " ('5', 'Hotel Encanto Real', False, 5.0, 1),\n",
       " ('10', 'Hotel Torre Dorada', False, 5.0, 1),\n",
       " ('9', 'Gran Hotel Madrid', False, 1.0, 1),\n",
       " ('5', 'Hotel Encanto Real', False, 4.0, 1),\n",
       " ('16', 'Hotel Rincón Sereno', False, 2.0, 1),\n",
       " ('3', 'Hotel Camino del Sol', False, 4.0, 1),\n",
       " ('9', 'Gran Hotel Madrid', False, 5.0, 1),\n",
       " ('19', 'Hotel Maravilla Real', False, 2.0, 1),\n",
       " ('8', 'Hotel Las Estrellas', False, 1.0, 1),\n",
       " ('10', 'Hotel Torre Dorada', False, 2.0, 1),\n",
       " ('4', 'Hotel Puerta del Cielo', False, 4.0, 1),\n",
       " ('10', 'Hotel Torre Dorada', False, 1.0, 1),\n",
       " ('17', 'Hotel Vista Alegre', False, 3.0, 1),\n",
       " ('4', 'Hotel Puerta del Cielo', False, 3.0, 1),\n",
       " ('7', 'Hotel Jardines del Rey', False, 2.0, 1),\n",
       " ('11', 'Hotel Palacio Imperial', False, 3.0, 1),\n",
       " ('7', 'Hotel Jardines del Rey', False, 4.0, 1),\n",
       " ('15', 'Hotel Mirador Real', False, 1.0, 1),\n",
       " ('3', 'Hotel Camino del Sol', False, 2.0, 1),\n",
       " ('1', 'Hotel Monte Verde', False, 5.0, 1),\n",
       " ('13', 'Hotel Los Almendros', False, 4.0, 1),\n",
       " ('7', 'Hotel Jardines del Rey', False, 5.0, 1),\n",
       " ('17', 'Hotel Vista Alegre', False, 1.0, 1),\n",
       " ('3', 'Hotel Camino del Sol', False, 5.0, 1),\n",
       " ('16', 'Hotel Rincón Sereno', False, 4.0, 1),\n",
       " ('5', 'Hotel Encanto Real', False, 3.0, 1),\n",
       " ('17', 'Hotel Vista Alegre', False, 2.0, 1),\n",
       " ('11', 'Hotel Palacio Imperial', False, 4.0, 1),\n",
       " ('2', 'Hotel Brisas del Mar', False, 3.0, 1),\n",
       " ('15', 'Hotel Mirador Real', False, 4.0, 1),\n",
       " ('12', 'Hotel Luz de Madrid', False, 2.0, 1),\n",
       " ('1', 'Hotel Monte Verde', False, 3.0, 1),\n",
       " ('13', 'Hotel Los Almendros', False, 3.0, 1),\n",
       " ('14', 'Hotel Sol y Luna', False, 5.0, 1),\n",
       " ('6', 'Palacio del Sol', False, 5.0, 1),\n",
       " ('2', 'Hotel Brisas del Mar', False, 2.0, 1),\n",
       " ('14', 'Hotel Sol y Luna', False, 3.0, 1),\n",
       " ('7', 'Hotel Jardines del Rey', False, 1.0, 1),\n",
       " ('2', 'Hotel Brisas del Mar', False, 1.0, 1),\n",
       " ('1', 'Hotel Monte Verde', False, 2.0, 1),\n",
       " ('18', 'Hotel Costa Azul', False, 4.0, 1),\n",
       " ('6', 'Palacio del Sol', False, 2.0, 1),\n",
       " ('16', 'Hotel Rincón Sereno', False, 3.0, 1),\n",
       " ('11', 'Hotel Palacio Imperial', False, 1.0, 1),\n",
       " ('9', 'Gran Hotel Madrid', False, 4.0, 1),\n",
       " ('12', 'Hotel Luz de Madrid', False, 5.0, 1),\n",
       " ('13', 'Hotel Los Almendros', False, 1.0, 1),\n",
       " ('12', 'Hotel Luz de Madrid', False, 4.0, 1),\n",
       " ('15', 'Hotel Mirador Real', False, 3.0, 1),\n",
       " ('16', 'Hotel Rincón Sereno', False, 5.0, 1),\n",
       " ('9', 'Gran Hotel Madrid', False, 3.0, 1),\n",
       " ('8', 'Hotel Las Estrellas', False, 2.0, 1),\n",
       " ('14', 'Hotel Sol y Luna', False, 4.0, 1),\n",
       " ('4', 'Hotel Puerta del Cielo', False, 1.0, 1),\n",
       " ('15', 'Hotel Mirador Real', False, 2.0, 1),\n",
       " ('5', 'Hotel Encanto Real', False, 2.0, 1),\n",
       " ('6', 'Palacio del Sol', False, 3.0, 1),\n",
       " ('18', 'Hotel Costa Azul', False, 3.0, 1),\n",
       " ('19', 'Hotel Maravilla Real', False, 5.0, 1),\n",
       " ('10', 'Hotel Torre Dorada', False, 4.0, 1),\n",
       " ('19', 'Hotel Maravilla Real', False, 1.0, 1),\n",
       " ('17', 'Hotel Vista Alegre', False, 5.0, 1),\n",
       " ('18', 'Hotel Costa Azul', False, 1.0, 1),\n",
       " ('19', 'Hotel Maravilla Real', False, 3.0, 1),\n",
       " ('19', 'Hotel Maravilla Real', False, 4.0, 1),\n",
       " ('12', 'Hotel Luz de Madrid', False, 1.0, 1),\n",
       " ('6', 'Palacio del Sol', False, 1.0, 1),\n",
       " ('2', 'Hotel Brisas del Mar', False, 4.0, 1),\n",
       " ('14', 'Hotel Sol y Luna', False, 2.0, 1),\n",
       " ('8', 'Hotel Las Estrellas', False, 3.0, 1),\n",
       " ('20', 'ibis Styles Madrid Prado', True, 4.7, 1),\n",
       " ('21', 'ibis budget Madrid Calle 30', True, 4.4, 1),\n",
       " ('22', 'ibis Madrid Centro las Ventas', True, 4.5, 1),\n",
       " ('23', 'ibis budget Madrid Centro las Ventas', True, 4.3, 1),\n",
       " ('24', 'ibis budget Madrid Vallecas', True, 4.3, 1),\n",
       " ('25', 'ibis Madrid Aeropuerto Barajas', True, 4.4, 1),\n",
       " ('26', 'ibis Madrid Alcorcon Tresaguas', True, 4.4, 1),\n",
       " ('27', 'ibis budget Madrid Aeropuerto', True, 4.0, 1),\n",
       " ('28', 'ibis Madrid Alcobendas', True, 4.4, 1),\n",
       " ('29', 'ibis budget Madrid Alcorcon Móstoles', True, 4.5, 1)]"
      ]
     },
     "execution_count": 17,
     "metadata": {},
     "output_type": "execute_result"
    }
   ],
   "source": [
    "data_insert_hotels"
   ]
  },
  {
   "cell_type": "code",
   "execution_count": 49,
   "metadata": {},
   "outputs": [],
   "source": [
    "# Creamos la query de inserción de los datos de ciudad\n",
    "insert_query_hoteles = \"\"\" \n",
    "                        INSERT INTO hoteles (id_hotel, nombre_hotel, competencia, valoracion, id_ciudad)\n",
    "                        VALUES (%s, %s, %s, %s, %s)\n",
    "\"\"\""
   ]
  },
  {
   "cell_type": "code",
   "execution_count": 39,
   "metadata": {},
   "outputs": [],
   "source": [
    "conn.rollback()"
   ]
  },
  {
   "cell_type": "code",
   "execution_count": 50,
   "metadata": {},
   "outputs": [
    {
     "ename": "UniqueViolation",
     "evalue": "llave duplicada viola restricción de unicidad «hoteles_pkey»\nDETAIL:  Ya existe la llave (id_hotel)=(3).\n",
     "output_type": "error",
     "traceback": [
      "\u001b[1;31m---------------------------------------------------------------------------\u001b[0m",
      "\u001b[1;31mUniqueViolation\u001b[0m                           Traceback (most recent call last)",
      "Cell \u001b[1;32mIn[50], line 2\u001b[0m\n\u001b[0;32m      1\u001b[0m \u001b[38;5;66;03m# Ejecutamos la query y le indicamos los valores \u001b[39;00m\n\u001b[1;32m----> 2\u001b[0m \u001b[43mcur\u001b[49m\u001b[38;5;241;43m.\u001b[39;49m\u001b[43mexecutemany\u001b[49m\u001b[43m(\u001b[49m\u001b[43minsert_query_hoteles\u001b[49m\u001b[43m,\u001b[49m\u001b[43m \u001b[49m\u001b[43mdata_insert_hotels\u001b[49m\u001b[43m)\u001b[49m\n\u001b[0;32m      3\u001b[0m conn\u001b[38;5;241m.\u001b[39mcommit()\n",
      "\u001b[1;31mUniqueViolation\u001b[0m: llave duplicada viola restricción de unicidad «hoteles_pkey»\nDETAIL:  Ya existe la llave (id_hotel)=(3).\n"
     ]
    }
   ],
   "source": [
    "# Ejecutamos la query y le indicamos los valores \n",
    "cur.executemany(insert_query_hoteles, data_insert_hotels)\n",
    "conn.commit()"
   ]
  },
  {
   "cell_type": "markdown",
   "metadata": {},
   "source": [
    "### Tabla clientes"
   ]
  },
  {
   "cell_type": "code",
   "execution_count": 30,
   "metadata": {},
   "outputs": [
    {
     "data": {
      "text/plain": [
       "Index(['id_reserva', 'id_cliente', 'nombre', 'apellido', 'mail', 'competencia',\n",
       "       'fecha_reserva', 'inicio_estancia', 'final_estancia', 'id_hotel',\n",
       "       'nombre_hotel', 'estrellas', 'ciudad', 'precio'],\n",
       "      dtype='object')"
      ]
     },
     "execution_count": 30,
     "metadata": {},
     "output_type": "execute_result"
    }
   ],
   "source": [
    "# revisar tipo de datos\n",
    "data.columns"
   ]
  },
  {
   "cell_type": "code",
   "execution_count": 42,
   "metadata": {},
   "outputs": [],
   "source": [
    "data_insert_clientes = []\n",
    "\n",
    "for _, row in data.iterrows():\n",
    "    id_cliente = row[\"id_cliente\"]\n",
    "    nombre = row[\"nombre\"],\n",
    "    apellido = row[\"apellido\"],\n",
    "    mail = row[\"mail\"]\n",
    "\n",
    "    data_insert_clientes.append((id_cliente, nombre, apellido, mail))"
   ]
  },
  {
   "cell_type": "code",
   "execution_count": 43,
   "metadata": {},
   "outputs": [],
   "source": [
    "# Creamos la query de inserción de los datos de ciudad\n",
    "insert_query_clientes = \"\"\" \n",
    "                        INSERT INTO clientes (id_cliente, nombre, apellido, mail)\n",
    "                        VALUES (%s, %s, %s, %s)\n",
    "\"\"\""
   ]
  },
  {
   "cell_type": "code",
   "execution_count": 41,
   "metadata": {},
   "outputs": [],
   "source": [
    "conn.rollback()"
   ]
  },
  {
   "cell_type": "code",
   "execution_count": 44,
   "metadata": {},
   "outputs": [
    {
     "ename": "UniqueViolation",
     "evalue": "llave duplicada viola restricción de unicidad «clientes_pkey»\nDETAIL:  Ya existe la llave (id_cliente)=(205).\n",
     "output_type": "error",
     "traceback": [
      "\u001b[1;31m---------------------------------------------------------------------------\u001b[0m",
      "\u001b[1;31mUniqueViolation\u001b[0m                           Traceback (most recent call last)",
      "Cell \u001b[1;32mIn[44], line 2\u001b[0m\n\u001b[0;32m      1\u001b[0m \u001b[38;5;66;03m# Ejecutamos la query y le indicamos los valores \u001b[39;00m\n\u001b[1;32m----> 2\u001b[0m \u001b[43mcur\u001b[49m\u001b[38;5;241;43m.\u001b[39;49m\u001b[43mexecutemany\u001b[49m\u001b[43m(\u001b[49m\u001b[43minsert_query_clientes\u001b[49m\u001b[43m,\u001b[49m\u001b[43m \u001b[49m\u001b[43mdata_insert_clientes\u001b[49m\u001b[43m)\u001b[49m\n\u001b[0;32m      3\u001b[0m conn\u001b[38;5;241m.\u001b[39mcommit()\n",
      "\u001b[1;31mUniqueViolation\u001b[0m: llave duplicada viola restricción de unicidad «clientes_pkey»\nDETAIL:  Ya existe la llave (id_cliente)=(205).\n"
     ]
    }
   ],
   "source": [
    "# Ejecutamos la query y le indicamos los valores \n",
    "cur.executemany(insert_query_clientes, data_insert_clientes)\n",
    "conn.commit()"
   ]
  },
  {
   "cell_type": "markdown",
   "metadata": {},
   "source": [
    "### Tabla reservas"
   ]
  },
  {
   "cell_type": "code",
   "execution_count": null,
   "metadata": {},
   "outputs": [
    {
     "data": {
      "text/plain": [
       "Index(['id_reserva', 'id_cliente', 'nombre', 'apellido', 'mail', 'competencia',\n",
       "       'fecha_reserva', 'inicio_estancia', 'final_estancia', 'id_hotel',\n",
       "       'precio_noche', 'nombre_hotel', 'estrellas', 'ciudad'],\n",
       "      dtype='object')"
      ]
     },
     "metadata": {},
     "output_type": "display_data"
    }
   ],
   "source": [
    "# revisar tipo de datos\n",
    "data.columns"
   ]
  },
  {
   "cell_type": "code",
   "execution_count": null,
   "metadata": {},
   "outputs": [],
   "source": [
    "# Sacamos el id de clientes de la tabla de clientes\n",
    "cur.execute(\"SELECT cliente, id_cliente FROM clientes\")\n",
    "clientes = dict(cur.fetchall())\n",
    "clientes"
   ]
  },
  {
   "cell_type": "code",
   "execution_count": null,
   "metadata": {},
   "outputs": [],
   "source": [
    "# Sacamos el id de hotel de la tabla de hoteles\n",
    "cur.execute(\"SELECT hotel, id_hotel FROM hoteles\")\n",
    "hoteles = dict(cur.fetchall())\n",
    "hoteles"
   ]
  },
  {
   "cell_type": "code",
   "execution_count": null,
   "metadata": {},
   "outputs": [],
   "source": [
    "data_insert_reservas = []\n",
    "\n",
    "for _, row in data.iterrows():\n",
    "    id_reserva = row[\"id_reserva\"]\n",
    "    fecha_reserva = row[\"fecha_reserva\"],\n",
    "    inicio_estancia = row[\"inicio_estancia\"],\n",
    "    final_estancia = row[\"final_estancia\"],\n",
    "    precio_noche = data[\"precio_noche\"],\n",
    "    id_cliente = clientes.get(row[\"id_cliente\"]),\n",
    "    id_hotel = hoteles.get(row[\"id_hotel\"])\n",
    "\n",
    "    data_insert_eventos.append(id_reserva, fecha_reserva, inicio_estancia, final_estancia, precio_noche, id_cliente, id_hotel)"
   ]
  },
  {
   "cell_type": "code",
   "execution_count": null,
   "metadata": {},
   "outputs": [],
   "source": [
    "# Creamos la query de inserción de los datos de ciudad\n",
    "insert_query_reservas = \"\"\" \n",
    "                        INSERT INTO eventos (id_reserva, fecha_reserva, inicio_estancia, final_estancia, precio_noche, id_cliente, id_hotel)\n",
    "                        VALUES (%s, %s, %s, %s, %s, %s, %s)\n",
    "\"\"\""
   ]
  },
  {
   "cell_type": "code",
   "execution_count": null,
   "metadata": {},
   "outputs": [],
   "source": [
    "# Ejecutamos la query y le indicamos los valores \n",
    "cur.execute(insert_query_reservas, data_insert_reservas)\n",
    "conn.commit()"
   ]
  },
  {
   "cell_type": "markdown",
   "metadata": {},
   "source": [
    "## Cierre de la conexión"
   ]
  },
  {
   "cell_type": "code",
   "execution_count": 13,
   "metadata": {},
   "outputs": [],
   "source": [
    "# una vez hemos terminado de trabajar es necesario cerrar la conexión y el cursor.\n",
    "cur.close()\n",
    "conn.close()"
   ]
  }
 ],
 "metadata": {
  "kernelspec": {
   "display_name": "venv",
   "language": "python",
   "name": "python3"
  },
  "language_info": {
   "codemirror_mode": {
    "name": "ipython",
    "version": 3
   },
   "file_extension": ".py",
   "mimetype": "text/x-python",
   "name": "python",
   "nbconvert_exporter": "python",
   "pygments_lexer": "ipython3",
   "version": "3.12.4"
  }
 },
 "nbformat": 4,
 "nbformat_minor": 2
}
