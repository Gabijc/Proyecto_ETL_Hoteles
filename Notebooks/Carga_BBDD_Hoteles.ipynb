{
 "cells": [
  {
   "cell_type": "markdown",
   "metadata": {},
   "source": [
    "# Carga de información a la base de datos BBDD_Hoteles\n",
    "\n",
    "En este documento realizamos la carga de los datos limpiados a la base de sql."
   ]
  },
  {
   "cell_type": "code",
   "execution_count": 1,
   "metadata": {},
   "outputs": [],
   "source": [
    "import pandas as pd\n",
    "import numpy as np\n",
    "import psycopg2 as ps"
   ]
  },
  {
   "cell_type": "code",
   "execution_count": 4,
   "metadata": {},
   "outputs": [
    {
     "name": "stdout",
     "output_type": "stream",
     "text": [
      "<class 'pandas.core.frame.DataFrame'>\n",
      "RangeIndex: 15000 entries, 0 to 14999\n",
      "Data columns (total 14 columns):\n",
      " #   Column           Non-Null Count  Dtype         \n",
      "---  ------           --------------  -----         \n",
      " 0   id_reserva       15000 non-null  object        \n",
      " 1   id_cliente       15000 non-null  int64         \n",
      " 2   nombre           15000 non-null  object        \n",
      " 3   apellido         15000 non-null  object        \n",
      " 4   mail             15000 non-null  object        \n",
      " 5   competencia      15000 non-null  bool          \n",
      " 6   fecha_reserva    9828 non-null   datetime64[ns]\n",
      " 7   inicio_estancia  15000 non-null  datetime64[ns]\n",
      " 8   final_estancia   15000 non-null  datetime64[ns]\n",
      " 9   id_hotel         15000 non-null  int64         \n",
      " 10  precio_noche     9776 non-null   float64       \n",
      " 11  nombre_hotel     9828 non-null   object        \n",
      " 12  estrellas        9828 non-null   float64       \n",
      " 13  ciudad           9828 non-null   object        \n",
      "dtypes: bool(1), datetime64[ns](3), float64(2), int64(2), object(6)\n",
      "memory usage: 1.5+ MB\n"
     ]
    }
   ],
   "source": [
    "# Importamos el csv con la información de las reservas, los hoteles y los clientes\n",
    "data = pd.read_csv(\"../data/reservas_hoteles_limpio.csv\", parse_dates=['fecha_reserva', 'inicio_estancia', 'final_estancia'])\n",
    "data.info()"
   ]
  },
  {
   "cell_type": "code",
   "execution_count": 5,
   "metadata": {},
   "outputs": [
    {
     "name": "stdout",
     "output_type": "stream",
     "text": [
      "<class 'pandas.core.frame.DataFrame'>\n",
      "RangeIndex: 217 entries, 0 to 216\n",
      "Data columns (total 8 columns):\n",
      " #   Column         Non-Null Count  Dtype         \n",
      "---  ------         --------------  -----         \n",
      " 0   nombre_evento  217 non-null    object        \n",
      " 1   url_evento     217 non-null    object        \n",
      " 2   codigo_postal  201 non-null    float64       \n",
      " 3   direccion      201 non-null    object        \n",
      " 4   horario        134 non-null    object        \n",
      " 5   organizacion   202 non-null    object        \n",
      " 6   fecha_inicio   217 non-null    datetime64[ns]\n",
      " 7   fecha_fin      217 non-null    datetime64[ns]\n",
      "dtypes: datetime64[ns](2), float64(1), object(5)\n",
      "memory usage: 13.7+ KB\n"
     ]
    }
   ],
   "source": [
    "# Importamos el csv con los eventos de Madrid sacados de la API\n",
    "eventos = pd.read_csv(\"../data/eventos_madrid.csv\", parse_dates=['fecha_inicio', 'fecha_fin'])\n",
    "eventos.info()"
   ]
  },
  {
   "cell_type": "markdown",
   "metadata": {},
   "source": [
    "## Inicialización de la conexión con la BBDD y el cursor"
   ]
  },
  {
   "cell_type": "code",
   "execution_count": 7,
   "metadata": {},
   "outputs": [],
   "source": [
    "# Creamos la conexión a la base de datos\n",
    "# Vamos a crear una conexión a la base de datos.\n",
    "conn = ps.connect(\n",
    "    dbname = \"BBDD_Hoteles\", # base a la que nos queremos conectar\n",
    "    user = \"postgres\",\n",
    "    password = \"admin\",\n",
    "    host = \"localhost\",\n",
    "    port = \"5432\" # puerto en el que s eencuentra postgres\n",
    ")"
   ]
  },
  {
   "cell_type": "code",
   "execution_count": 8,
   "metadata": {},
   "outputs": [],
   "source": [
    "# Creamos un cursor el cual nos va a permitir ejecutar querys.\n",
    "cur = conn.cursor()"
   ]
  },
  {
   "cell_type": "code",
   "execution_count": 9,
   "metadata": {},
   "outputs": [
    {
     "data": {
      "text/plain": [
       "('PostgreSQL 16.4, compiled by Visual C++ build 1940, 64-bit',)"
      ]
     },
     "execution_count": 9,
     "metadata": {},
     "output_type": "execute_result"
    }
   ],
   "source": [
    "# COmprobamos que la conexión está creada y conectada\n",
    "cur.execute(\"SELECT version();\")\n",
    "cur.fetchone() "
   ]
  },
  {
   "cell_type": "markdown",
   "metadata": {},
   "source": [
    "## Inserción de datos"
   ]
  },
  {
   "cell_type": "code",
   "execution_count": 8,
   "metadata": {},
   "outputs": [
    {
     "name": "stdout",
     "output_type": "stream",
     "text": [
      "0\n",
      "0\n"
     ]
    }
   ],
   "source": [
    "# COmprobamos que no haya valores duplicados en ambos dataframes\n",
    "print(data.duplicated().sum())\n",
    "print(eventos.duplicated().sum())"
   ]
  },
  {
   "cell_type": "markdown",
   "metadata": {},
   "source": [
    "### Tabla ciudad"
   ]
  },
  {
   "cell_type": "code",
   "execution_count": null,
   "metadata": {},
   "outputs": [],
   "source": [
    "# Creamos la query de inserción de los datos de ciudad\n",
    "insert_query_ciudad = \"\"\" \n",
    "                        INSERT INTO ciudad (nombre_ciudad)\n",
    "                        VALUES (%s) \n",
    "\"\"\""
   ]
  },
  {
   "cell_type": "code",
   "execution_count": null,
   "metadata": {},
   "outputs": [],
   "source": [
    "# Ejecutamos la query y le indicamos que solo tenemos una ciudad que es Madrid\n",
    "cur.execute(insert_query_ciudad, (\"Madrid\"))\n",
    "conn.commit()"
   ]
  },
  {
   "cell_type": "markdown",
   "metadata": {},
   "source": [
    "### Tabla eventos"
   ]
  },
  {
   "cell_type": "code",
   "execution_count": null,
   "metadata": {},
   "outputs": [
    {
     "data": {
      "text/plain": [
       "Index(['nombre_evento', 'url_evento', 'codigo_postal', 'direccion', 'horario',\n",
       "       'organizacion', 'fecha_inicio', 'fecha_fin'],\n",
       "      dtype='object')"
      ]
     },
     "execution_count": 12,
     "metadata": {},
     "output_type": "execute_result"
    }
   ],
   "source": [
    "# cambiar tipo de dato de codigo postal a int\n",
    "eventos.columns"
   ]
  },
  {
   "cell_type": "code",
   "execution_count": null,
   "metadata": {},
   "outputs": [],
   "source": [
    "# Sacamos el id de ciudad de la tabla de ciudad\n",
    "cur.execute(\"SELECT ciudad, id_ciudad FROM ciudad\")\n",
    "ciudad = dict(cur.fetchone())\n",
    "ciudad"
   ]
  },
  {
   "cell_type": "code",
   "execution_count": null,
   "metadata": {},
   "outputs": [],
   "source": [
    "data_insert_eventos = []\n",
    "\n",
    "for i, row in eventos.iterrows():\n",
    "    nombre_evento = row[\"nombre_evento\"]\n",
    "    url_evento = row[\"url_evento\"]\n",
    "    codigo_postal = row[\"codigo_postal\"]\n",
    "    direccion = row[\"direccion\"]\n",
    "    horario = row[\"horario\"]\n",
    "    fecha_inicio = row[\"fecha_inicio\"]\n",
    "    fecha_fin = row[\"fecha_fin\"]\n",
    "    organizacion = row[\"organizacion\"]\n",
    "    id_ciudad = ciudad.get(row[\"id_ciudad\"])\n",
    "\n",
    "    data_insert_eventos.append(nombre_evento, url_evento, codigo_postal, direccion, horario, fecha_inicio, fecha_fin, organizacion, id_ciudad)"
   ]
  },
  {
   "cell_type": "code",
   "execution_count": null,
   "metadata": {},
   "outputs": [],
   "source": [
    "# Creamos la query de inserción de los datos de eventos\n",
    "insert_query_eventos = \"\"\" \n",
    "                        INSERT INTO eventos (nombre_evento, url_evento, codigo_postal, direccion, horario,\n",
    "                        fecha_inicio, fecha_fin,organizacion, id_ciudad)\n",
    "                        VALUES (%s, %s, %s, %s, %s, %s, %s, %s)\n",
    "\"\"\""
   ]
  },
  {
   "cell_type": "code",
   "execution_count": null,
   "metadata": {},
   "outputs": [],
   "source": [
    "# Ejecutamos la query y le indicamos los valores \n",
    "cur.execute(insert_query_eventos, data_insert_eventos)\n",
    "conn.commit()"
   ]
  },
  {
   "cell_type": "markdown",
   "metadata": {},
   "source": [
    "### Tabla hoteles"
   ]
  },
  {
   "cell_type": "code",
   "execution_count": null,
   "metadata": {},
   "outputs": [
    {
     "data": {
      "text/plain": [
       "Index(['id_reserva', 'id_cliente', 'nombre', 'apellido', 'mail', 'competencia',\n",
       "       'fecha_reserva', 'inicio_estancia', 'final_estancia', 'id_hotel',\n",
       "       'precio_noche', 'nombre_hotel', 'estrellas', 'ciudad'],\n",
       "      dtype='object')"
      ]
     },
     "execution_count": 13,
     "metadata": {},
     "output_type": "execute_result"
    }
   ],
   "source": [
    "# revisar tipo de datos\n",
    "data.columns"
   ]
  },
  {
   "cell_type": "code",
   "execution_count": null,
   "metadata": {},
   "outputs": [],
   "source": [
    "data_insert_hotels = []\n",
    "\n",
    "for _, row in data.iterrows():\n",
    "    nombre_hotel = row[\"nombre_hotel\"]\n",
    "    competencia = row[\"competencia\"]\n",
    "    estrellas = row[\"estrellas\"]\n",
    "    id_ciudad = ciudad.get(row[\"id_ciudad\"])\n",
    "\n",
    "    data_insert_eventos.append(nombre_hotel, competencia, estrellas, id_ciudad)"
   ]
  },
  {
   "cell_type": "code",
   "execution_count": null,
   "metadata": {},
   "outputs": [],
   "source": [
    "# Creamos la query de inserción de los datos de ciudad\n",
    "insert_query_hoteles = \"\"\" \n",
    "                        INSERT INTO eventos (nombre_hotel, competencia, estrellas, id_ciudad)\n",
    "                        VALUES (%s, %s, %s, %s)\n",
    "\"\"\""
   ]
  },
  {
   "cell_type": "code",
   "execution_count": null,
   "metadata": {},
   "outputs": [],
   "source": [
    "# Ejecutamos la query y le indicamos los valores \n",
    "cur.execute(insert_query_hoteles, data_insert_hotels)\n",
    "conn.commit()"
   ]
  },
  {
   "cell_type": "markdown",
   "metadata": {},
   "source": [
    "### Tabla clientes"
   ]
  },
  {
   "cell_type": "code",
   "execution_count": null,
   "metadata": {},
   "outputs": [
    {
     "data": {
      "text/plain": [
       "Index(['id_reserva', 'id_cliente', 'nombre', 'apellido', 'mail', 'competencia',\n",
       "       'fecha_reserva', 'inicio_estancia', 'final_estancia', 'id_hotel',\n",
       "       'precio_noche', 'nombre_hotel', 'estrellas', 'ciudad'],\n",
       "      dtype='object')"
      ]
     },
     "metadata": {},
     "output_type": "display_data"
    }
   ],
   "source": [
    "# revisar tipo de datos\n",
    "data.columns"
   ]
  },
  {
   "cell_type": "code",
   "execution_count": null,
   "metadata": {},
   "outputs": [],
   "source": [
    "data_insert_clientes = []\n",
    "\n",
    "for _, row in data.iterrows():\n",
    "    id_cliente = row[\"id_cliente\"]\n",
    "    nombre = row[\"nombre\"],\n",
    "    apellido = row[\"apellido\"],\n",
    "    mail = row[\"mail\"]\n",
    "\n",
    "    data_insert_eventos.append(id_cliente, nombre, apellido, mail)"
   ]
  },
  {
   "cell_type": "code",
   "execution_count": null,
   "metadata": {},
   "outputs": [],
   "source": [
    "# Creamos la query de inserción de los datos de ciudad\n",
    "insert_query_clientes = \"\"\" \n",
    "                        INSERT INTO eventos (id_cliente, nombre, apellido, mail)\n",
    "                        VALUES (%s, %s, %s, %s)\n",
    "\"\"\""
   ]
  },
  {
   "cell_type": "code",
   "execution_count": null,
   "metadata": {},
   "outputs": [],
   "source": [
    "# Ejecutamos la query y le indicamos los valores \n",
    "cur.execute(insert_query_clientes, data_insert_clientes)\n",
    "conn.commit()"
   ]
  },
  {
   "cell_type": "markdown",
   "metadata": {},
   "source": [
    "### Tabla reservas"
   ]
  },
  {
   "cell_type": "code",
   "execution_count": null,
   "metadata": {},
   "outputs": [
    {
     "data": {
      "text/plain": [
       "Index(['id_reserva', 'id_cliente', 'nombre', 'apellido', 'mail', 'competencia',\n",
       "       'fecha_reserva', 'inicio_estancia', 'final_estancia', 'id_hotel',\n",
       "       'precio_noche', 'nombre_hotel', 'estrellas', 'ciudad'],\n",
       "      dtype='object')"
      ]
     },
     "metadata": {},
     "output_type": "display_data"
    }
   ],
   "source": [
    "# revisar tipo de datos\n",
    "data.columns"
   ]
  },
  {
   "cell_type": "code",
   "execution_count": null,
   "metadata": {},
   "outputs": [],
   "source": [
    "# Sacamos el id de clientes de la tabla de clientes\n",
    "cur.execute(\"SELECT cliente, id_cliente FROM clientes\")\n",
    "clientes = dict(cur.fetchall())\n",
    "clientes"
   ]
  },
  {
   "cell_type": "code",
   "execution_count": null,
   "metadata": {},
   "outputs": [],
   "source": [
    "# Sacamos el id de hotel de la tabla de hoteles\n",
    "cur.execute(\"SELECT hotel, id_hotel FROM hoteles\")\n",
    "hoteles = dict(cur.fetchall())\n",
    "hoteles"
   ]
  },
  {
   "cell_type": "code",
   "execution_count": null,
   "metadata": {},
   "outputs": [],
   "source": [
    "data_insert_reservas = []\n",
    "\n",
    "for _, row in data.iterrows():\n",
    "    id_reserva = row[\"id_reserva\"]\n",
    "    fecha_reserva = row[\"fecha_reserva\"],\n",
    "    inicio_estancia = row[\"inicio_estancia\"],\n",
    "    final_estancia = row[\"final_estancia\"],\n",
    "    precio_noche = data[\"precio_noche\"],\n",
    "    id_cliente = clientes.get(row[\"id_cliente\"]),\n",
    "    id_hotel = hoteles.get(row[\"id_hotel\"])\n",
    "\n",
    "    data_insert_eventos.append(id_reserva, fecha_reserva, inicio_estancia, final_estancia, precio_noche, id_cliente, id_hotel)"
   ]
  },
  {
   "cell_type": "code",
   "execution_count": null,
   "metadata": {},
   "outputs": [],
   "source": [
    "# Creamos la query de inserción de los datos de ciudad\n",
    "insert_query_reservas = \"\"\" \n",
    "                        INSERT INTO eventos (id_reserva, fecha_reserva, inicio_estancia, final_estancia, precio_noche, id_cliente, id_hotel)\n",
    "                        VALUES (%s, %s, %s, %s, %s, %s, %s)\n",
    "\"\"\""
   ]
  },
  {
   "cell_type": "code",
   "execution_count": null,
   "metadata": {},
   "outputs": [],
   "source": [
    "# Ejecutamos la query y le indicamos los valores \n",
    "cur.execute(insert_query_reservas, data_insert_reservas)\n",
    "conn.commit()"
   ]
  },
  {
   "cell_type": "markdown",
   "metadata": {},
   "source": [
    "## Cierre de la conexión"
   ]
  },
  {
   "cell_type": "code",
   "execution_count": 13,
   "metadata": {},
   "outputs": [],
   "source": [
    "# una vez hemos terminado de trabajar es necesario cerrar la conexión y el cursor.\n",
    "cur.close()\n",
    "conn.close()"
   ]
  }
 ],
 "metadata": {
  "kernelspec": {
   "display_name": "venv",
   "language": "python",
   "name": "python3"
  },
  "language_info": {
   "codemirror_mode": {
    "name": "ipython",
    "version": 3
   },
   "file_extension": ".py",
   "mimetype": "text/x-python",
   "name": "python",
   "nbconvert_exporter": "python",
   "pygments_lexer": "ipython3",
   "version": "3.12.4"
  }
 },
 "nbformat": 4,
 "nbformat_minor": 2
}
